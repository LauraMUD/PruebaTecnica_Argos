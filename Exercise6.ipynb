{
 "cells": [
  {
   "cell_type": "markdown",
   "id": "amateur-characterization",
   "metadata": {},
   "source": [
    "# Technical Proof Model Analyst : Ejercicio \\#6 "
   ]
  },
  {
   "cell_type": "code",
   "execution_count": 1,
   "id": "pending-bikini",
   "metadata": {},
   "outputs": [],
   "source": [
    "%matplotlib inline\n",
    "\n",
    "\n",
    "# Librerías y paquetes necesarios\n",
    "\n",
    "\n",
    "#Trtamiento de datos\n",
    "\n",
    "import pandas as pd\n",
    "import numpy as np\n",
    "import datetime as dt\n",
    "\n",
    "\n",
    "#  Biblioteca para Regresión Lineal\n",
    "\n",
    "from sklearn.linear_model import LinearRegression\n",
    "\n",
    "#Graficas estáticas\n",
    "\n",
    "import matplotlib\n",
    "import matplotlib.pyplot as plt\n",
    "\n",
    "#Graficas interactivas\n",
    "\n",
    "import plotly\n",
    "plotly.io.renderers.default = 'notebook_connected'\n",
    "import plotly.express as px\n",
    "import plotly.graph_objects as go"
   ]
  },
  {
   "cell_type": "code",
   "execution_count": 2,
   "id": "traditional-cutting",
   "metadata": {},
   "outputs": [
    {
     "data": {
      "text/html": [
       "<div>\n",
       "<style scoped>\n",
       "    .dataframe tbody tr th:only-of-type {\n",
       "        vertical-align: middle;\n",
       "    }\n",
       "\n",
       "    .dataframe tbody tr th {\n",
       "        vertical-align: top;\n",
       "    }\n",
       "\n",
       "    .dataframe thead th {\n",
       "        text-align: right;\n",
       "    }\n",
       "</style>\n",
       "<table border=\"1\" class=\"dataframe\">\n",
       "  <thead>\n",
       "    <tr style=\"text-align: right;\">\n",
       "      <th></th>\n",
       "      <th>DATE</th>\n",
       "      <th>VALUE</th>\n",
       "      <th>GRUPO</th>\n",
       "      <th>REGION_NAME</th>\n",
       "      <th>DET_1</th>\n",
       "    </tr>\n",
       "  </thead>\n",
       "  <tbody>\n",
       "    <tr>\n",
       "      <th>0</th>\n",
       "      <td>2016-05-01 00:00:00.0000000</td>\n",
       "      <td>363.0</td>\n",
       "      <td>MERCADO CEMENTO DEPTO CANAL</td>\n",
       "      <td>Amazonas</td>\n",
       "      <td>OTROS</td>\n",
       "    </tr>\n",
       "    <tr>\n",
       "      <th>1</th>\n",
       "      <td>2016-05-01 00:00:00.0000000</td>\n",
       "      <td>363.0</td>\n",
       "      <td>MERCADO CEMENTO DEPTO CANAL</td>\n",
       "      <td>Antioquia</td>\n",
       "      <td>OTROS</td>\n",
       "    </tr>\n",
       "    <tr>\n",
       "      <th>2</th>\n",
       "      <td>2016-05-01 00:00:00.0000000</td>\n",
       "      <td>363.0</td>\n",
       "      <td>MERCADO CEMENTO DEPTO CANAL</td>\n",
       "      <td>Arauca</td>\n",
       "      <td>OTROS</td>\n",
       "    </tr>\n",
       "    <tr>\n",
       "      <th>3</th>\n",
       "      <td>2016-05-01 00:00:00.0000000</td>\n",
       "      <td>363.0</td>\n",
       "      <td>MERCADO CEMENTO DEPTO CANAL</td>\n",
       "      <td>Archipiélago de San Andrés, Providencia y Sant...</td>\n",
       "      <td>OTROS</td>\n",
       "    </tr>\n",
       "    <tr>\n",
       "      <th>4</th>\n",
       "      <td>2016-05-01 00:00:00.0000000</td>\n",
       "      <td>363.0</td>\n",
       "      <td>MERCADO CEMENTO DEPTO CANAL</td>\n",
       "      <td>Atlántico</td>\n",
       "      <td>OTROS</td>\n",
       "    </tr>\n",
       "  </tbody>\n",
       "</table>\n",
       "</div>"
      ],
      "text/plain": [
       "                          DATE  VALUE                        GRUPO  \\\n",
       "0  2016-05-01 00:00:00.0000000  363.0  MERCADO CEMENTO DEPTO CANAL   \n",
       "1  2016-05-01 00:00:00.0000000  363.0  MERCADO CEMENTO DEPTO CANAL   \n",
       "2  2016-05-01 00:00:00.0000000  363.0  MERCADO CEMENTO DEPTO CANAL   \n",
       "3  2016-05-01 00:00:00.0000000  363.0  MERCADO CEMENTO DEPTO CANAL   \n",
       "4  2016-05-01 00:00:00.0000000  363.0  MERCADO CEMENTO DEPTO CANAL   \n",
       "\n",
       "                                         REGION_NAME  DET_1  \n",
       "0                                           Amazonas  OTROS  \n",
       "1                                          Antioquia  OTROS  \n",
       "2                                             Arauca  OTROS  \n",
       "3  Archipiélago de San Andrés, Providencia y Sant...  OTROS  \n",
       "4                                          Atlántico  OTROS  "
      ]
     },
     "execution_count": 2,
     "metadata": {},
     "output_type": "execute_result"
    }
   ],
   "source": [
    "# Carga del conjunto de datos\n",
    "\n",
    "path= './query1_sabana.csv'\n",
    "df = pd.read_csv(path)\n",
    "\n",
    "\n",
    "df.head(5)"
   ]
  },
  {
   "cell_type": "code",
   "execution_count": 3,
   "id": "honest-wound",
   "metadata": {},
   "outputs": [
    {
     "data": {
      "text/plain": [
       "(1241510, 5)"
      ]
     },
     "execution_count": 3,
     "metadata": {},
     "output_type": "execute_result"
    }
   ],
   "source": [
    "df.shape"
   ]
  },
  {
   "cell_type": "code",
   "execution_count": 4,
   "id": "loved-seeking",
   "metadata": {},
   "outputs": [
    {
     "data": {
      "text/html": [
       "<div>\n",
       "<style scoped>\n",
       "    .dataframe tbody tr th:only-of-type {\n",
       "        vertical-align: middle;\n",
       "    }\n",
       "\n",
       "    .dataframe tbody tr th {\n",
       "        vertical-align: top;\n",
       "    }\n",
       "\n",
       "    .dataframe thead th {\n",
       "        text-align: right;\n",
       "    }\n",
       "</style>\n",
       "<table border=\"1\" class=\"dataframe\">\n",
       "  <thead>\n",
       "    <tr style=\"text-align: right;\">\n",
       "      <th></th>\n",
       "      <th>VALUE</th>\n",
       "    </tr>\n",
       "  </thead>\n",
       "  <tbody>\n",
       "    <tr>\n",
       "      <th>count</th>\n",
       "      <td>1.241510e+06</td>\n",
       "    </tr>\n",
       "    <tr>\n",
       "      <th>mean</th>\n",
       "      <td>1.737189e+04</td>\n",
       "    </tr>\n",
       "    <tr>\n",
       "      <th>std</th>\n",
       "      <td>3.880905e+04</td>\n",
       "    </tr>\n",
       "    <tr>\n",
       "      <th>min</th>\n",
       "      <td>-6.000000e+00</td>\n",
       "    </tr>\n",
       "    <tr>\n",
       "      <th>25%</th>\n",
       "      <td>7.990000e+02</td>\n",
       "    </tr>\n",
       "    <tr>\n",
       "      <th>50%</th>\n",
       "      <td>4.358000e+03</td>\n",
       "    </tr>\n",
       "    <tr>\n",
       "      <th>75%</th>\n",
       "      <td>1.665300e+04</td>\n",
       "    </tr>\n",
       "    <tr>\n",
       "      <th>max</th>\n",
       "      <td>1.015138e+06</td>\n",
       "    </tr>\n",
       "  </tbody>\n",
       "</table>\n",
       "</div>"
      ],
      "text/plain": [
       "              VALUE\n",
       "count  1.241510e+06\n",
       "mean   1.737189e+04\n",
       "std    3.880905e+04\n",
       "min   -6.000000e+00\n",
       "25%    7.990000e+02\n",
       "50%    4.358000e+03\n",
       "75%    1.665300e+04\n",
       "max    1.015138e+06"
      ]
     },
     "execution_count": 4,
     "metadata": {},
     "output_type": "execute_result"
    }
   ],
   "source": [
    "df.describe()"
   ]
  },
  {
   "cell_type": "code",
   "execution_count": 5,
   "id": "composed-cooling",
   "metadata": {},
   "outputs": [
    {
     "data": {
      "text/plain": [
       "0"
      ]
     },
     "execution_count": 5,
     "metadata": {},
     "output_type": "execute_result"
    }
   ],
   "source": [
    "df.duplicated().sum() "
   ]
  },
  {
   "cell_type": "code",
   "execution_count": 6,
   "id": "agricultural-vegetarian",
   "metadata": {},
   "outputs": [
    {
     "data": {
      "text/plain": [
       "DATE            0\n",
       "VALUE           0\n",
       "GRUPO           0\n",
       "REGION_NAME     0\n",
       "DET_1          68\n",
       "dtype: int64"
      ]
     },
     "execution_count": 6,
     "metadata": {},
     "output_type": "execute_result"
    }
   ],
   "source": [
    "df.isnull().sum()"
   ]
  },
  {
   "cell_type": "code",
   "execution_count": 7,
   "id": "handed-voluntary",
   "metadata": {},
   "outputs": [
    {
     "data": {
      "text/plain": [
       "Atlántico                                                   36515\n",
       "Vichada                                                     36515\n",
       "Cundinamarca                                                36515\n",
       "Caquetá                                                     36515\n",
       "Bogotá, D.C.                                                36515\n",
       "Archipiélago de San Andrés, Providencia y Santa Catalina    36515\n",
       "Santander                                                   36515\n",
       "Meta                                                        36515\n",
       "Boyacá                                                      36515\n",
       "Bolívar                                                     36515\n",
       "Córdoba                                                     36515\n",
       "Guaviare                                                    36515\n",
       "La Guajira                                                  36515\n",
       "Resto                                                       36515\n",
       "Sucre                                                       36515\n",
       "Amazonas                                                    36515\n",
       "Cauca                                                       36515\n",
       "Vaupés                                                      36515\n",
       "Arauca                                                      36515\n",
       "Putumayo                                                    36515\n",
       "Caldas                                                      36515\n",
       "Casanare                                                    36515\n",
       "Magdalena                                                   36515\n",
       "Antioquia                                                   36515\n",
       "Huila                                                       36515\n",
       "Chocó                                                       36515\n",
       "Norte de Santander                                          36515\n",
       "Cesar                                                       36515\n",
       "Tolima                                                      36515\n",
       "Risaralda                                                   36515\n",
       "Nariño                                                      36515\n",
       "Quindio                                                     36515\n",
       "Valle del Cauca                                             36515\n",
       "Guainía                                                     36515\n",
       "Name: REGION_NAME, dtype: int64"
      ]
     },
     "execution_count": 7,
     "metadata": {},
     "output_type": "execute_result"
    }
   ],
   "source": [
    "df['REGION_NAME'].value_counts()"
   ]
  },
  {
   "cell_type": "code",
   "execution_count": 8,
   "id": "charged-charge",
   "metadata": {},
   "outputs": [
    {
     "data": {
      "text/plain": [
       "LICENCIAS DEST DEPTO                     561748\n",
       "MERCADO CEMENTO DEPTO CANAL              325108\n",
       "MERCADO READY MIX                        174386\n",
       "LICENCIAS                                159596\n",
       "INDICE PRECIOS VIVIENDA NUEVA              9418\n",
       "MERCADO CEMENTO DEPTO EMPAQUE              9078\n",
       "INDICE PRECIOS VIVIENDA USADA (ANUAL)      2108\n",
       "IMPORT - GRAY CEMENT                         68\n",
       "Name: GRUPO, dtype: int64"
      ]
     },
     "execution_count": 8,
     "metadata": {},
     "output_type": "execute_result"
    }
   ],
   "source": [
    "df['GRUPO'].value_counts()"
   ]
  },
  {
   "cell_type": "code",
   "execution_count": 9,
   "id": "minimal-patio",
   "metadata": {},
   "outputs": [
    {
     "data": {
      "text/plain": [
       "OTROS                           118830\n",
       "Total                            89760\n",
       "Vivienda                         89726\n",
       "No VIS                           89658\n",
       "Comercio                         87754\n",
       "CONCRETERAS                      81396\n",
       "COMERCIALIZACION                 81396\n",
       "CONSTRUCTORES Y CONTRATISTAS     81362\n",
       "VIS                              69938\n",
       "Educación                        49402\n",
       "EDIFICACIONES                    45526\n",
       "OBRAS CIVILES                    45492\n",
       "VIVIENDA                         45492\n",
       "Bodega                           42432\n",
       "Oficina                          37264\n",
       "Hotel                            33082\n",
       "Hospital                         32062\n",
       "Industria                        24956\n",
       "Social                           24106\n",
       "Religioso                        22712\n",
       "Administración pública           16422\n",
       "Otro                             12070\n",
       "AU                                6290\n",
       "EMPACADO                          4556\n",
       "GRANEL                            4522\n",
       "AM                                3128\n",
       "Nominal                           1088\n",
       "Real                              1020\n",
       "Name: DET_1, dtype: int64"
      ]
     },
     "execution_count": 9,
     "metadata": {},
     "output_type": "execute_result"
    }
   ],
   "source": [
    "df['DET_1'].value_counts()"
   ]
  },
  {
   "cell_type": "markdown",
   "id": "orange-harassment",
   "metadata": {},
   "source": [
    "Lo valores en cada departamento se repiten en una sola fecha, es decir, el 1 de enero esta amazona, antioquia, etc. El 2 de enero estarán los mismos departamentos amazonas, antioquia, etc. Además, cada departamento y fecha que se repiten tienen la misma cantidad en la columna llamada \"VALUE\"."
   ]
  },
  {
   "cell_type": "markdown",
   "id": "committed-scholarship",
   "metadata": {},
   "source": [
    "## PIB en Colombia "
   ]
  },
  {
   "cell_type": "code",
   "execution_count": 10,
   "id": "sitting-kentucky",
   "metadata": {},
   "outputs": [
    {
     "data": {
      "text/plain": [
       "(159, 2)"
      ]
     },
     "execution_count": 10,
     "metadata": {},
     "output_type": "execute_result"
    }
   ],
   "source": [
    "# Por lo dicho en el texto anterior hago extracción de valores únicos teniendo \n",
    "# como referncia la Fecha del dataset.\n",
    "\n",
    "df_u1=df.copy()\n",
    "\n",
    "df_u2=df_u1[['DATE', 'VALUE']]\n",
    "\n",
    "#df_u2.head(5)\n",
    "\n",
    "#df_u2.duplicated().sum() \n",
    "\n",
    "df_u2 = df_u2.drop_duplicates(subset=['DATE'])\n",
    "\n",
    "df_u2.shape"
   ]
  },
  {
   "cell_type": "code",
   "execution_count": 11,
   "id": "endless-accordance",
   "metadata": {},
   "outputs": [
    {
     "data": {
      "text/html": [
       "<div>\n",
       "<style scoped>\n",
       "    .dataframe tbody tr th:only-of-type {\n",
       "        vertical-align: middle;\n",
       "    }\n",
       "\n",
       "    .dataframe tbody tr th {\n",
       "        vertical-align: top;\n",
       "    }\n",
       "\n",
       "    .dataframe thead th {\n",
       "        text-align: right;\n",
       "    }\n",
       "</style>\n",
       "<table border=\"1\" class=\"dataframe\">\n",
       "  <thead>\n",
       "    <tr style=\"text-align: right;\">\n",
       "      <th></th>\n",
       "      <th>DATE</th>\n",
       "      <th>VALUE</th>\n",
       "    </tr>\n",
       "  </thead>\n",
       "  <tbody>\n",
       "    <tr>\n",
       "      <th>0</th>\n",
       "      <td>2010-01-01 00:00:00.0000000</td>\n",
       "      <td>24331.0</td>\n",
       "    </tr>\n",
       "    <tr>\n",
       "      <th>1</th>\n",
       "      <td>2010-01-31 00:00:00.0000000</td>\n",
       "      <td>4.0</td>\n",
       "    </tr>\n",
       "    <tr>\n",
       "      <th>2</th>\n",
       "      <td>2010-02-01 00:00:00.0000000</td>\n",
       "      <td>383.0</td>\n",
       "    </tr>\n",
       "    <tr>\n",
       "      <th>3</th>\n",
       "      <td>2010-03-01 00:00:00.0000000</td>\n",
       "      <td>69.0</td>\n",
       "    </tr>\n",
       "    <tr>\n",
       "      <th>4</th>\n",
       "      <td>2010-04-01 00:00:00.0000000</td>\n",
       "      <td>167.0</td>\n",
       "    </tr>\n",
       "  </tbody>\n",
       "</table>\n",
       "</div>"
      ],
      "text/plain": [
       "                          DATE    VALUE\n",
       "0  2010-01-01 00:00:00.0000000  24331.0\n",
       "1  2010-01-31 00:00:00.0000000      4.0\n",
       "2  2010-02-01 00:00:00.0000000    383.0\n",
       "3  2010-03-01 00:00:00.0000000     69.0\n",
       "4  2010-04-01 00:00:00.0000000    167.0"
      ]
     },
     "execution_count": 11,
     "metadata": {},
     "output_type": "execute_result"
    }
   ],
   "source": [
    "df_pib_Fecha=df_u2.groupby('DATE').agg({ 'VALUE': 'sum'\n",
    "   \n",
    "                              })\n",
    "\n",
    "df_pib_Fecha=df_pib_Fecha.reset_index()\n",
    "\n",
    "df_pib_Fecha.head(5)\n",
    "\n",
    "#df_pib_Fecha.describe()\n"
   ]
  },
  {
   "cell_type": "code",
   "execution_count": 12,
   "id": "missing-samoa",
   "metadata": {},
   "outputs": [
    {
     "data": {
      "text/html": [
       "        <script type=\"text/javascript\">\n",
       "        window.PlotlyConfig = {MathJaxConfig: 'local'};\n",
       "        if (window.MathJax) {MathJax.Hub.Config({SVG: {font: \"STIX-Web\"}});}\n",
       "        if (typeof require !== 'undefined') {\n",
       "        require.undef(\"plotly\");\n",
       "        requirejs.config({\n",
       "            paths: {\n",
       "                'plotly': ['https://cdn.plot.ly/plotly-latest.min']\n",
       "            }\n",
       "        });\n",
       "        require(['plotly'], function(Plotly) {\n",
       "            window._Plotly = Plotly;\n",
       "        });\n",
       "        }\n",
       "        </script>\n",
       "        "
      ]
     },
     "metadata": {},
     "output_type": "display_data"
    },
    {
     "data": {
      "text/html": [
       "<div>                            <div id=\"7209fc48-95f2-4331-a8f3-e033e6c26a0a\" class=\"plotly-graph-div\" style=\"height:525px; width:100%;\"></div>            <script type=\"text/javascript\">                require([\"plotly\"], function(Plotly) {                    window.PLOTLYENV=window.PLOTLYENV || {};                                    if (document.getElementById(\"7209fc48-95f2-4331-a8f3-e033e6c26a0a\")) {                    Plotly.newPlot(                        \"7209fc48-95f2-4331-a8f3-e033e6c26a0a\",                        [{\"hovertemplate\": \"Fecha=%{x}<br>Valor=%{y}<extra></extra>\", \"legendgroup\": \"\", \"line\": {\"color\": \"#636efa\", \"dash\": \"solid\"}, \"mode\": \"lines\", \"name\": \"\", \"orientation\": \"v\", \"showlegend\": false, \"type\": \"scatter\", \"x\": [\"2010-01-01 00:00:00.0000000\", \"2010-01-31 00:00:00.0000000\", \"2010-02-01 00:00:00.0000000\", \"2010-03-01 00:00:00.0000000\", \"2010-04-01 00:00:00.0000000\", \"2010-04-30 00:00:00.0000000\", \"2010-05-01 00:00:00.0000000\", \"2010-06-01 00:00:00.0000000\", \"2010-07-01 00:00:00.0000000\", \"2010-07-31 00:00:00.0000000\", \"2010-08-01 00:00:00.0000000\", \"2010-09-01 00:00:00.0000000\", \"2010-10-01 00:00:00.0000000\", \"2010-10-31 00:00:00.0000000\", \"2010-11-01 00:00:00.0000000\", \"2010-12-01 00:00:00.0000000\", \"2010-12-31 00:00:00.0000000\", \"2011-01-01 00:00:00.0000000\", \"2011-01-31 00:00:00.0000000\", \"2011-02-01 00:00:00.0000000\", \"2011-03-01 00:00:00.0000000\", \"2011-04-01 00:00:00.0000000\", \"2011-04-30 00:00:00.0000000\", \"2011-05-01 00:00:00.0000000\", \"2011-06-01 00:00:00.0000000\", \"2011-07-01 00:00:00.0000000\", \"2011-07-31 00:00:00.0000000\", \"2011-08-01 00:00:00.0000000\", \"2011-09-01 00:00:00.0000000\", \"2011-10-01 00:00:00.0000000\", \"2011-10-31 00:00:00.0000000\", \"2011-11-01 00:00:00.0000000\", \"2011-12-01 00:00:00.0000000\", \"2011-12-31 00:00:00.0000000\", \"2012-01-01 00:00:00.0000000\", \"2012-01-31 00:00:00.0000000\", \"2012-02-01 00:00:00.0000000\", \"2012-03-01 00:00:00.0000000\", \"2012-04-01 00:00:00.0000000\", \"2012-04-30 00:00:00.0000000\", \"2012-05-01 00:00:00.0000000\", \"2012-06-01 00:00:00.0000000\", \"2012-07-01 00:00:00.0000000\", \"2012-07-31 00:00:00.0000000\", \"2012-08-01 00:00:00.0000000\", \"2012-09-01 00:00:00.0000000\", \"2012-10-01 00:00:00.0000000\", \"2012-10-31 00:00:00.0000000\", \"2012-11-01 00:00:00.0000000\", \"2012-12-01 00:00:00.0000000\", \"2012-12-31 00:00:00.0000000\", \"2013-01-01 00:00:00.0000000\", \"2013-01-31 00:00:00.0000000\", \"2013-02-01 00:00:00.0000000\", \"2013-03-01 00:00:00.0000000\", \"2013-04-01 00:00:00.0000000\", \"2013-04-30 00:00:00.0000000\", \"2013-05-01 00:00:00.0000000\", \"2013-06-01 00:00:00.0000000\", \"2013-07-01 00:00:00.0000000\", \"2013-07-31 00:00:00.0000000\", \"2013-08-01 00:00:00.0000000\", \"2013-09-01 00:00:00.0000000\", \"2013-10-01 00:00:00.0000000\", \"2013-10-31 00:00:00.0000000\", \"2013-11-01 00:00:00.0000000\", \"2013-12-01 00:00:00.0000000\", \"2013-12-31 00:00:00.0000000\", \"2014-01-01 00:00:00.0000000\", \"2014-01-31 00:00:00.0000000\", \"2014-02-01 00:00:00.0000000\", \"2014-03-01 00:00:00.0000000\", \"2014-04-01 00:00:00.0000000\", \"2014-04-30 00:00:00.0000000\", \"2014-05-01 00:00:00.0000000\", \"2014-06-01 00:00:00.0000000\", \"2014-07-01 00:00:00.0000000\", \"2014-07-31 00:00:00.0000000\", \"2014-08-01 00:00:00.0000000\", \"2014-09-01 00:00:00.0000000\", \"2014-10-01 00:00:00.0000000\", \"2014-10-31 00:00:00.0000000\", \"2014-11-01 00:00:00.0000000\", \"2014-12-01 00:00:00.0000000\", \"2014-12-31 00:00:00.0000000\", \"2015-01-01 00:00:00.0000000\", \"2015-01-31 00:00:00.0000000\", \"2015-02-01 00:00:00.0000000\", \"2015-03-01 00:00:00.0000000\", \"2015-04-01 00:00:00.0000000\", \"2015-04-30 00:00:00.0000000\", \"2015-05-01 00:00:00.0000000\", \"2015-06-01 00:00:00.0000000\", \"2015-07-01 00:00:00.0000000\", \"2015-07-31 00:00:00.0000000\", \"2015-08-01 00:00:00.0000000\", \"2015-09-01 00:00:00.0000000\", \"2015-10-01 00:00:00.0000000\", \"2015-10-31 00:00:00.0000000\", \"2015-11-01 00:00:00.0000000\", \"2015-12-01 00:00:00.0000000\", \"2015-12-31 00:00:00.0000000\", \"2016-01-01 00:00:00.0000000\", \"2016-01-31 00:00:00.0000000\", \"2016-02-01 00:00:00.0000000\", \"2016-03-01 00:00:00.0000000\", \"2016-04-01 00:00:00.0000000\", \"2016-04-30 00:00:00.0000000\", \"2016-05-01 00:00:00.0000000\", \"2016-06-01 00:00:00.0000000\", \"2016-07-01 00:00:00.0000000\", \"2016-07-31 00:00:00.0000000\", \"2016-08-01 00:00:00.0000000\", \"2016-09-01 00:00:00.0000000\", \"2016-10-01 00:00:00.0000000\", \"2016-10-31 00:00:00.0000000\", \"2016-11-01 00:00:00.0000000\", \"2016-12-01 00:00:00.0000000\", \"2016-12-31 00:00:00.0000000\", \"2017-01-01 00:00:00.0000000\", \"2017-01-31 00:00:00.0000000\", \"2017-02-01 00:00:00.0000000\", \"2017-03-01 00:00:00.0000000\", \"2017-04-01 00:00:00.0000000\", \"2017-04-30 00:00:00.0000000\", \"2017-05-01 00:00:00.0000000\", \"2017-06-01 00:00:00.0000000\", \"2017-07-01 00:00:00.0000000\", \"2017-07-31 00:00:00.0000000\", \"2017-08-01 00:00:00.0000000\", \"2017-09-01 00:00:00.0000000\", \"2017-10-01 00:00:00.0000000\", \"2017-10-31 00:00:00.0000000\", \"2017-11-01 00:00:00.0000000\", \"2017-12-01 00:00:00.0000000\", \"2017-12-31 00:00:00.0000000\", \"2018-01-01 00:00:00.0000000\", \"2018-01-31 00:00:00.0000000\", \"2018-02-01 00:00:00.0000000\", \"2018-03-01 00:00:00.0000000\", \"2018-04-01 00:00:00.0000000\", \"2018-04-30 00:00:00.0000000\", \"2018-05-01 00:00:00.0000000\", \"2018-06-01 00:00:00.0000000\", \"2018-07-01 00:00:00.0000000\", \"2018-07-31 00:00:00.0000000\", \"2018-08-01 00:00:00.0000000\", \"2018-09-01 00:00:00.0000000\", \"2018-10-01 00:00:00.0000000\", \"2018-10-31 00:00:00.0000000\", \"2018-11-01 00:00:00.0000000\", \"2018-12-01 00:00:00.0000000\", \"2019-01-01 00:00:00.0000000\", \"2019-02-01 00:00:00.0000000\", \"2019-03-01 00:00:00.0000000\", \"2019-04-01 00:00:00.0000000\", \"2019-05-01 00:00:00.0000000\", \"2019-06-01 00:00:00.0000000\", \"2019-07-01 00:00:00.0000000\"], \"xaxis\": \"x\", \"y\": [24331.0, 4.0, 383.0, 69.0, 167.0, 3.0, 3874.0, 8042.0, 9249.0, 3.0, 9380.0, 1386.0, 7425.0, 0.0, 59175.0, 53329.0, 101.0, 29.0, 3.0, 678.0, 0.0, 0.0, 0.0, 18152.0, 0.0, 373.0, -2.0, 264.0, 1024.0, 0.0, 2.0, 1271.0, 112.0, 1229.0, 0.0, 3.0, 0.0, 38085.0, 13292.0, 1.0, 14277.52, 19170.0, 0.0, 3.0, 0.0, 0.0, 0.0, 2.0, 1551.0, 1812.0, 1393.0, 34194.0, 1.0, 53997.0, 52207.0, 1076.0, 3.0, 3183.0, 14315.0, 18082.0, 5.0, 15210.0, 6241.0, 13744.0, -1.0, 15898.0, 16248.0, 1587.0, 14343.0, 0.0, 9474.0, 1469.0, 401.0, 0.0, 0.0, 0.0, 0.0, -2.0, 3602.0, 3565.0, 0.0, 3.0, 2228.0, 4593.0, 1747.0, 4641.0, 0.0, 0.0, 0.0, 17718.0, 0.0, 5873.0, 94578.0, 18534.0, 1.0, 0.0, 0.0, 0.0, 1.0, 0.0, 6289.0, 1912.0, 2208.2, 4.0, 82342.0, 25748.0, 32886.0, 3.0, 363.0, 3932.0, 3727.0, 2.0, 153.0, 4377.0, 4769.0, 4.0, 4687.0, 0.0, 2212.0, 0.0, 2.0, 1852.0, 0.0, 0.0, 4.0, 0.0, 0.0, 0.0, 0.0, 1216.0, 0.0, 0.0, 3.0, 0.0, 3919.0, 2348.0, 3038.0, 4.0, 3096.0, 4627.0, 0.0, 1.0, 0.0, 0.0, 0.0, 6.0, 16017.0, 2058.0, 125.0, 1.0, 133.0, 0.0, 89.0, 0.0, 0.0, 9278.5, 100.0, 20454.05, 993.85], \"yaxis\": \"y\"}],                        {\"legend\": {\"tracegroupgap\": 0}, \"template\": {\"data\": {\"bar\": [{\"error_x\": {\"color\": \"#2a3f5f\"}, \"error_y\": {\"color\": \"#2a3f5f\"}, \"marker\": {\"line\": {\"color\": \"#E5ECF6\", \"width\": 0.5}}, \"type\": \"bar\"}], \"barpolar\": [{\"marker\": {\"line\": {\"color\": \"#E5ECF6\", \"width\": 0.5}}, \"type\": \"barpolar\"}], \"carpet\": [{\"aaxis\": {\"endlinecolor\": \"#2a3f5f\", \"gridcolor\": \"white\", \"linecolor\": \"white\", \"minorgridcolor\": \"white\", \"startlinecolor\": \"#2a3f5f\"}, \"baxis\": {\"endlinecolor\": \"#2a3f5f\", \"gridcolor\": \"white\", \"linecolor\": \"white\", \"minorgridcolor\": \"white\", \"startlinecolor\": \"#2a3f5f\"}, \"type\": \"carpet\"}], \"choropleth\": [{\"colorbar\": {\"outlinewidth\": 0, \"ticks\": \"\"}, \"type\": \"choropleth\"}], \"contour\": [{\"colorbar\": {\"outlinewidth\": 0, \"ticks\": \"\"}, \"colorscale\": [[0.0, \"#0d0887\"], [0.1111111111111111, \"#46039f\"], [0.2222222222222222, \"#7201a8\"], [0.3333333333333333, \"#9c179e\"], [0.4444444444444444, \"#bd3786\"], [0.5555555555555556, \"#d8576b\"], [0.6666666666666666, \"#ed7953\"], [0.7777777777777778, \"#fb9f3a\"], [0.8888888888888888, \"#fdca26\"], [1.0, \"#f0f921\"]], \"type\": \"contour\"}], \"contourcarpet\": [{\"colorbar\": {\"outlinewidth\": 0, \"ticks\": \"\"}, \"type\": \"contourcarpet\"}], \"heatmap\": [{\"colorbar\": {\"outlinewidth\": 0, \"ticks\": \"\"}, \"colorscale\": [[0.0, \"#0d0887\"], [0.1111111111111111, \"#46039f\"], [0.2222222222222222, \"#7201a8\"], [0.3333333333333333, \"#9c179e\"], [0.4444444444444444, \"#bd3786\"], [0.5555555555555556, \"#d8576b\"], [0.6666666666666666, \"#ed7953\"], [0.7777777777777778, \"#fb9f3a\"], [0.8888888888888888, \"#fdca26\"], [1.0, \"#f0f921\"]], \"type\": \"heatmap\"}], \"heatmapgl\": [{\"colorbar\": {\"outlinewidth\": 0, \"ticks\": \"\"}, \"colorscale\": [[0.0, \"#0d0887\"], [0.1111111111111111, \"#46039f\"], [0.2222222222222222, \"#7201a8\"], [0.3333333333333333, \"#9c179e\"], [0.4444444444444444, \"#bd3786\"], [0.5555555555555556, \"#d8576b\"], [0.6666666666666666, \"#ed7953\"], [0.7777777777777778, \"#fb9f3a\"], [0.8888888888888888, \"#fdca26\"], [1.0, \"#f0f921\"]], \"type\": \"heatmapgl\"}], \"histogram\": [{\"marker\": {\"colorbar\": {\"outlinewidth\": 0, \"ticks\": \"\"}}, \"type\": \"histogram\"}], \"histogram2d\": [{\"colorbar\": {\"outlinewidth\": 0, \"ticks\": \"\"}, \"colorscale\": [[0.0, \"#0d0887\"], [0.1111111111111111, \"#46039f\"], [0.2222222222222222, \"#7201a8\"], [0.3333333333333333, \"#9c179e\"], [0.4444444444444444, \"#bd3786\"], [0.5555555555555556, \"#d8576b\"], [0.6666666666666666, \"#ed7953\"], [0.7777777777777778, \"#fb9f3a\"], [0.8888888888888888, \"#fdca26\"], [1.0, \"#f0f921\"]], \"type\": \"histogram2d\"}], \"histogram2dcontour\": [{\"colorbar\": {\"outlinewidth\": 0, \"ticks\": \"\"}, \"colorscale\": [[0.0, \"#0d0887\"], [0.1111111111111111, \"#46039f\"], [0.2222222222222222, \"#7201a8\"], [0.3333333333333333, \"#9c179e\"], [0.4444444444444444, \"#bd3786\"], [0.5555555555555556, \"#d8576b\"], [0.6666666666666666, \"#ed7953\"], [0.7777777777777778, \"#fb9f3a\"], [0.8888888888888888, \"#fdca26\"], [1.0, \"#f0f921\"]], \"type\": \"histogram2dcontour\"}], \"mesh3d\": [{\"colorbar\": {\"outlinewidth\": 0, \"ticks\": \"\"}, \"type\": \"mesh3d\"}], \"parcoords\": [{\"line\": {\"colorbar\": {\"outlinewidth\": 0, \"ticks\": \"\"}}, \"type\": \"parcoords\"}], \"pie\": [{\"automargin\": true, \"type\": \"pie\"}], \"scatter\": [{\"marker\": {\"colorbar\": {\"outlinewidth\": 0, \"ticks\": \"\"}}, \"type\": \"scatter\"}], \"scatter3d\": [{\"line\": {\"colorbar\": {\"outlinewidth\": 0, \"ticks\": \"\"}}, \"marker\": {\"colorbar\": {\"outlinewidth\": 0, \"ticks\": \"\"}}, \"type\": \"scatter3d\"}], \"scattercarpet\": [{\"marker\": {\"colorbar\": {\"outlinewidth\": 0, \"ticks\": \"\"}}, \"type\": \"scattercarpet\"}], \"scattergeo\": [{\"marker\": {\"colorbar\": {\"outlinewidth\": 0, \"ticks\": \"\"}}, \"type\": \"scattergeo\"}], \"scattergl\": [{\"marker\": {\"colorbar\": {\"outlinewidth\": 0, \"ticks\": \"\"}}, \"type\": \"scattergl\"}], \"scattermapbox\": [{\"marker\": {\"colorbar\": {\"outlinewidth\": 0, \"ticks\": \"\"}}, \"type\": \"scattermapbox\"}], \"scatterpolar\": [{\"marker\": {\"colorbar\": {\"outlinewidth\": 0, \"ticks\": \"\"}}, \"type\": \"scatterpolar\"}], \"scatterpolargl\": [{\"marker\": {\"colorbar\": {\"outlinewidth\": 0, \"ticks\": \"\"}}, \"type\": \"scatterpolargl\"}], \"scatterternary\": [{\"marker\": {\"colorbar\": {\"outlinewidth\": 0, \"ticks\": \"\"}}, \"type\": \"scatterternary\"}], \"surface\": [{\"colorbar\": {\"outlinewidth\": 0, \"ticks\": \"\"}, \"colorscale\": [[0.0, \"#0d0887\"], [0.1111111111111111, \"#46039f\"], [0.2222222222222222, \"#7201a8\"], [0.3333333333333333, \"#9c179e\"], [0.4444444444444444, \"#bd3786\"], [0.5555555555555556, \"#d8576b\"], [0.6666666666666666, \"#ed7953\"], [0.7777777777777778, \"#fb9f3a\"], [0.8888888888888888, \"#fdca26\"], [1.0, \"#f0f921\"]], \"type\": \"surface\"}], \"table\": [{\"cells\": {\"fill\": {\"color\": \"#EBF0F8\"}, \"line\": {\"color\": \"white\"}}, \"header\": {\"fill\": {\"color\": \"#C8D4E3\"}, \"line\": {\"color\": \"white\"}}, \"type\": \"table\"}]}, \"layout\": {\"annotationdefaults\": {\"arrowcolor\": \"#2a3f5f\", \"arrowhead\": 0, \"arrowwidth\": 1}, \"autotypenumbers\": \"strict\", \"coloraxis\": {\"colorbar\": {\"outlinewidth\": 0, \"ticks\": \"\"}}, \"colorscale\": {\"diverging\": [[0, \"#8e0152\"], [0.1, \"#c51b7d\"], [0.2, \"#de77ae\"], [0.3, \"#f1b6da\"], [0.4, \"#fde0ef\"], [0.5, \"#f7f7f7\"], [0.6, \"#e6f5d0\"], [0.7, \"#b8e186\"], [0.8, \"#7fbc41\"], [0.9, \"#4d9221\"], [1, \"#276419\"]], \"sequential\": [[0.0, \"#0d0887\"], [0.1111111111111111, \"#46039f\"], [0.2222222222222222, \"#7201a8\"], [0.3333333333333333, \"#9c179e\"], [0.4444444444444444, \"#bd3786\"], [0.5555555555555556, \"#d8576b\"], [0.6666666666666666, \"#ed7953\"], [0.7777777777777778, \"#fb9f3a\"], [0.8888888888888888, \"#fdca26\"], [1.0, \"#f0f921\"]], \"sequentialminus\": [[0.0, \"#0d0887\"], [0.1111111111111111, \"#46039f\"], [0.2222222222222222, \"#7201a8\"], [0.3333333333333333, \"#9c179e\"], [0.4444444444444444, \"#bd3786\"], [0.5555555555555556, \"#d8576b\"], [0.6666666666666666, \"#ed7953\"], [0.7777777777777778, \"#fb9f3a\"], [0.8888888888888888, \"#fdca26\"], [1.0, \"#f0f921\"]]}, \"colorway\": [\"#636efa\", \"#EF553B\", \"#00cc96\", \"#ab63fa\", \"#FFA15A\", \"#19d3f3\", \"#FF6692\", \"#B6E880\", \"#FF97FF\", \"#FECB52\"], \"font\": {\"color\": \"#2a3f5f\"}, \"geo\": {\"bgcolor\": \"white\", \"lakecolor\": \"white\", \"landcolor\": \"#E5ECF6\", \"showlakes\": true, \"showland\": true, \"subunitcolor\": \"white\"}, \"hoverlabel\": {\"align\": \"left\"}, \"hovermode\": \"closest\", \"mapbox\": {\"style\": \"light\"}, \"paper_bgcolor\": \"white\", \"plot_bgcolor\": \"#E5ECF6\", \"polar\": {\"angularaxis\": {\"gridcolor\": \"white\", \"linecolor\": \"white\", \"ticks\": \"\"}, \"bgcolor\": \"#E5ECF6\", \"radialaxis\": {\"gridcolor\": \"white\", \"linecolor\": \"white\", \"ticks\": \"\"}}, \"scene\": {\"xaxis\": {\"backgroundcolor\": \"#E5ECF6\", \"gridcolor\": \"white\", \"gridwidth\": 2, \"linecolor\": \"white\", \"showbackground\": true, \"ticks\": \"\", \"zerolinecolor\": \"white\"}, \"yaxis\": {\"backgroundcolor\": \"#E5ECF6\", \"gridcolor\": \"white\", \"gridwidth\": 2, \"linecolor\": \"white\", \"showbackground\": true, \"ticks\": \"\", \"zerolinecolor\": \"white\"}, \"zaxis\": {\"backgroundcolor\": \"#E5ECF6\", \"gridcolor\": \"white\", \"gridwidth\": 2, \"linecolor\": \"white\", \"showbackground\": true, \"ticks\": \"\", \"zerolinecolor\": \"white\"}}, \"shapedefaults\": {\"line\": {\"color\": \"#2a3f5f\"}}, \"ternary\": {\"aaxis\": {\"gridcolor\": \"white\", \"linecolor\": \"white\", \"ticks\": \"\"}, \"baxis\": {\"gridcolor\": \"white\", \"linecolor\": \"white\", \"ticks\": \"\"}, \"bgcolor\": \"#E5ECF6\", \"caxis\": {\"gridcolor\": \"white\", \"linecolor\": \"white\", \"ticks\": \"\"}}, \"title\": {\"x\": 0.05}, \"xaxis\": {\"automargin\": true, \"gridcolor\": \"white\", \"linecolor\": \"white\", \"ticks\": \"\", \"title\": {\"standoff\": 15}, \"zerolinecolor\": \"white\", \"zerolinewidth\": 2}, \"yaxis\": {\"automargin\": true, \"gridcolor\": \"white\", \"linecolor\": \"white\", \"ticks\": \"\", \"title\": {\"standoff\": 15}, \"zerolinecolor\": \"white\", \"zerolinewidth\": 2}}}, \"title\": {\"text\": \"Comportamiento del comercio en el tiempo\"}, \"xaxis\": {\"anchor\": \"y\", \"domain\": [0.0, 1.0], \"rangeselector\": {\"buttons\": [{\"count\": 1, \"label\": \"D\\u00edas\", \"step\": \"month\", \"stepmode\": \"backward\"}, {\"count\": 6, \"label\": \"Seis meses\", \"step\": \"month\", \"stepmode\": \"backward\"}, {\"count\": 1, \"label\": \"A\\u00f1o\", \"step\": \"year\", \"stepmode\": \"backward\"}, {\"step\": \"all\"}]}, \"rangeslider\": {\"visible\": true}, \"title\": {\"text\": \"Fecha\"}}, \"yaxis\": {\"anchor\": \"x\", \"domain\": [0.0, 1.0], \"title\": {\"text\": \"Valor\"}}},                        {\"responsive\": true}                    ).then(function(){\n",
       "                            \n",
       "var gd = document.getElementById('7209fc48-95f2-4331-a8f3-e033e6c26a0a');\n",
       "var x = new MutationObserver(function (mutations, observer) {{\n",
       "        var display = window.getComputedStyle(gd).display;\n",
       "        if (!display || display === 'none') {{\n",
       "            console.log([gd, 'removed!']);\n",
       "            Plotly.purge(gd);\n",
       "            observer.disconnect();\n",
       "        }}\n",
       "}});\n",
       "\n",
       "// Listen for the removal of the full notebook cells\n",
       "var notebookContainer = gd.closest('#notebook-container');\n",
       "if (notebookContainer) {{\n",
       "    x.observe(notebookContainer, {childList: true});\n",
       "}}\n",
       "\n",
       "// Listen for the clearing of the current output cell\n",
       "var outputEl = gd.closest('.output');\n",
       "if (outputEl) {{\n",
       "    x.observe(outputEl, {childList: true});\n",
       "}}\n",
       "\n",
       "                        })                };                });            </script>        </div>"
      ]
     },
     "metadata": {},
     "output_type": "display_data"
    }
   ],
   "source": [
    "# Serie de tiempo para el PIB total\n",
    "\n",
    "fig = px.line(df_pib_Fecha, x='DATE', y='VALUE', title='Comportamiento del comercio en el tiempo',\n",
    "             labels={\n",
    "                     \"DATE\": \"Fecha\",\n",
    "                     \"VALUE\": \"Valor\"\n",
    "                 })\n",
    "\n",
    "fig.update_xaxes(rangeslider_visible=True,   rangeselector=dict(\n",
    "        buttons=list([\n",
    "            dict(count=1, label=\"Días\", step=\"month\", stepmode=\"backward\"),\n",
    "            dict(count=6, label=\"Seis meses\", step=\"month\", stepmode=\"backward\"),\n",
    "            dict(count=1, label=\"Año\", step=\"year\", stepmode=\"backward\"),\n",
    "            dict(step=\"all\")\n",
    "        ])))\n",
    "fig.show()"
   ]
  },
  {
   "cell_type": "code",
   "execution_count": 13,
   "id": "stuffed-investment",
   "metadata": {},
   "outputs": [
    {
     "data": {
      "text/html": [
       "<div>\n",
       "<style scoped>\n",
       "    .dataframe tbody tr th:only-of-type {\n",
       "        vertical-align: middle;\n",
       "    }\n",
       "\n",
       "    .dataframe tbody tr th {\n",
       "        vertical-align: top;\n",
       "    }\n",
       "\n",
       "    .dataframe thead th {\n",
       "        text-align: right;\n",
       "    }\n",
       "</style>\n",
       "<table border=\"1\" class=\"dataframe\">\n",
       "  <thead>\n",
       "    <tr style=\"text-align: right;\">\n",
       "      <th></th>\n",
       "      <th>GRUPO</th>\n",
       "      <th>VALUE</th>\n",
       "    </tr>\n",
       "  </thead>\n",
       "  <tbody>\n",
       "    <tr>\n",
       "      <th>0</th>\n",
       "      <td>IMPORT - GRAY CEMENT</td>\n",
       "      <td>68</td>\n",
       "    </tr>\n",
       "    <tr>\n",
       "      <th>1</th>\n",
       "      <td>INDICE PRECIOS VIVIENDA NUEVA</td>\n",
       "      <td>9418</td>\n",
       "    </tr>\n",
       "    <tr>\n",
       "      <th>2</th>\n",
       "      <td>INDICE PRECIOS VIVIENDA USADA (ANUAL)</td>\n",
       "      <td>2108</td>\n",
       "    </tr>\n",
       "    <tr>\n",
       "      <th>3</th>\n",
       "      <td>LICENCIAS</td>\n",
       "      <td>159596</td>\n",
       "    </tr>\n",
       "    <tr>\n",
       "      <th>4</th>\n",
       "      <td>LICENCIAS DEST DEPTO</td>\n",
       "      <td>561748</td>\n",
       "    </tr>\n",
       "  </tbody>\n",
       "</table>\n",
       "</div>"
      ],
      "text/plain": [
       "                                   GRUPO   VALUE\n",
       "0                   IMPORT - GRAY CEMENT      68\n",
       "1          INDICE PRECIOS VIVIENDA NUEVA    9418\n",
       "2  INDICE PRECIOS VIVIENDA USADA (ANUAL)    2108\n",
       "3                              LICENCIAS  159596\n",
       "4                   LICENCIAS DEST DEPTO  561748"
      ]
     },
     "execution_count": 13,
     "metadata": {},
     "output_type": "execute_result"
    }
   ],
   "source": [
    "df_pib_Grupo=df.groupby('GRUPO').agg({ 'VALUE': 'count'\n",
    "   \n",
    "                              })\n",
    "\n",
    "df_pib_Grupo=df_pib_Grupo.reset_index()\n",
    "\n",
    "df_pib_Grupo.head(5)"
   ]
  },
  {
   "cell_type": "code",
   "execution_count": 14,
   "id": "humanitarian-taste",
   "metadata": {},
   "outputs": [
    {
     "data": {
      "text/html": [
       "<div>                            <div id=\"32118c9f-f208-4dec-a453-5455a6fb7044\" class=\"plotly-graph-div\" style=\"height:400px; width:100%;\"></div>            <script type=\"text/javascript\">                require([\"plotly\"], function(Plotly) {                    window.PLOTLYENV=window.PLOTLYENV || {};                                    if (document.getElementById(\"32118c9f-f208-4dec-a453-5455a6fb7044\")) {                    Plotly.newPlot(                        \"32118c9f-f208-4dec-a453-5455a6fb7044\",                        [{\"alignmentgroup\": \"True\", \"hovertemplate\": \"Grupo=%{x}<br>Valor=%{y}<extra></extra>\", \"legendgroup\": \"\", \"marker\": {\"color\": \"#636efa\"}, \"name\": \"\", \"offsetgroup\": \"\", \"orientation\": \"v\", \"showlegend\": false, \"textposition\": \"auto\", \"type\": \"bar\", \"x\": [\"IMPORT - GRAY CEMENT\", \"INDICE PRECIOS VIVIENDA NUEVA\", \"INDICE PRECIOS VIVIENDA USADA (ANUAL)\", \"LICENCIAS\", \"LICENCIAS DEST DEPTO\", \"MERCADO CEMENTO DEPTO CANAL\", \"MERCADO CEMENTO DEPTO EMPAQUE\", \"MERCADO READY MIX\"], \"xaxis\": \"x\", \"y\": [68, 9418, 2108, 159596, 561748, 325108, 9078, 174386], \"yaxis\": \"y\"}],                        {\"barmode\": \"group\", \"height\": 400, \"legend\": {\"tracegroupgap\": 0}, \"margin\": {\"t\": 60}, \"plot_bgcolor\": \"rgb(230, 230, 230)\", \"template\": {\"data\": {\"bar\": [{\"error_x\": {\"color\": \"#2a3f5f\"}, \"error_y\": {\"color\": \"#2a3f5f\"}, \"marker\": {\"line\": {\"color\": \"#E5ECF6\", \"width\": 0.5}}, \"type\": \"bar\"}], \"barpolar\": [{\"marker\": {\"line\": {\"color\": \"#E5ECF6\", \"width\": 0.5}}, \"type\": \"barpolar\"}], \"carpet\": [{\"aaxis\": {\"endlinecolor\": \"#2a3f5f\", \"gridcolor\": \"white\", \"linecolor\": \"white\", \"minorgridcolor\": \"white\", \"startlinecolor\": \"#2a3f5f\"}, \"baxis\": {\"endlinecolor\": \"#2a3f5f\", \"gridcolor\": \"white\", \"linecolor\": \"white\", \"minorgridcolor\": \"white\", \"startlinecolor\": \"#2a3f5f\"}, \"type\": \"carpet\"}], \"choropleth\": [{\"colorbar\": {\"outlinewidth\": 0, \"ticks\": \"\"}, \"type\": \"choropleth\"}], \"contour\": [{\"colorbar\": {\"outlinewidth\": 0, \"ticks\": \"\"}, \"colorscale\": [[0.0, \"#0d0887\"], [0.1111111111111111, \"#46039f\"], [0.2222222222222222, \"#7201a8\"], [0.3333333333333333, \"#9c179e\"], [0.4444444444444444, \"#bd3786\"], [0.5555555555555556, \"#d8576b\"], [0.6666666666666666, \"#ed7953\"], [0.7777777777777778, \"#fb9f3a\"], [0.8888888888888888, \"#fdca26\"], [1.0, \"#f0f921\"]], \"type\": \"contour\"}], \"contourcarpet\": [{\"colorbar\": {\"outlinewidth\": 0, \"ticks\": \"\"}, \"type\": \"contourcarpet\"}], \"heatmap\": [{\"colorbar\": {\"outlinewidth\": 0, \"ticks\": \"\"}, \"colorscale\": [[0.0, \"#0d0887\"], [0.1111111111111111, \"#46039f\"], [0.2222222222222222, \"#7201a8\"], [0.3333333333333333, \"#9c179e\"], [0.4444444444444444, \"#bd3786\"], [0.5555555555555556, \"#d8576b\"], [0.6666666666666666, \"#ed7953\"], [0.7777777777777778, \"#fb9f3a\"], [0.8888888888888888, \"#fdca26\"], [1.0, \"#f0f921\"]], \"type\": \"heatmap\"}], \"heatmapgl\": [{\"colorbar\": {\"outlinewidth\": 0, \"ticks\": \"\"}, \"colorscale\": [[0.0, \"#0d0887\"], [0.1111111111111111, \"#46039f\"], [0.2222222222222222, \"#7201a8\"], [0.3333333333333333, \"#9c179e\"], [0.4444444444444444, \"#bd3786\"], [0.5555555555555556, \"#d8576b\"], [0.6666666666666666, \"#ed7953\"], [0.7777777777777778, \"#fb9f3a\"], [0.8888888888888888, \"#fdca26\"], [1.0, \"#f0f921\"]], \"type\": \"heatmapgl\"}], \"histogram\": [{\"marker\": {\"colorbar\": {\"outlinewidth\": 0, \"ticks\": \"\"}}, \"type\": \"histogram\"}], \"histogram2d\": [{\"colorbar\": {\"outlinewidth\": 0, \"ticks\": \"\"}, \"colorscale\": [[0.0, \"#0d0887\"], [0.1111111111111111, \"#46039f\"], [0.2222222222222222, \"#7201a8\"], [0.3333333333333333, \"#9c179e\"], [0.4444444444444444, \"#bd3786\"], [0.5555555555555556, \"#d8576b\"], [0.6666666666666666, \"#ed7953\"], [0.7777777777777778, \"#fb9f3a\"], [0.8888888888888888, \"#fdca26\"], [1.0, \"#f0f921\"]], \"type\": \"histogram2d\"}], \"histogram2dcontour\": [{\"colorbar\": {\"outlinewidth\": 0, \"ticks\": \"\"}, \"colorscale\": [[0.0, \"#0d0887\"], [0.1111111111111111, \"#46039f\"], [0.2222222222222222, \"#7201a8\"], [0.3333333333333333, \"#9c179e\"], [0.4444444444444444, \"#bd3786\"], [0.5555555555555556, \"#d8576b\"], [0.6666666666666666, \"#ed7953\"], [0.7777777777777778, \"#fb9f3a\"], [0.8888888888888888, \"#fdca26\"], [1.0, \"#f0f921\"]], \"type\": \"histogram2dcontour\"}], \"mesh3d\": [{\"colorbar\": {\"outlinewidth\": 0, \"ticks\": \"\"}, \"type\": \"mesh3d\"}], \"parcoords\": [{\"line\": {\"colorbar\": {\"outlinewidth\": 0, \"ticks\": \"\"}}, \"type\": \"parcoords\"}], \"pie\": [{\"automargin\": true, \"type\": \"pie\"}], \"scatter\": [{\"marker\": {\"colorbar\": {\"outlinewidth\": 0, \"ticks\": \"\"}}, \"type\": \"scatter\"}], \"scatter3d\": [{\"line\": {\"colorbar\": {\"outlinewidth\": 0, \"ticks\": \"\"}}, \"marker\": {\"colorbar\": {\"outlinewidth\": 0, \"ticks\": \"\"}}, \"type\": \"scatter3d\"}], \"scattercarpet\": [{\"marker\": {\"colorbar\": {\"outlinewidth\": 0, \"ticks\": \"\"}}, \"type\": \"scattercarpet\"}], \"scattergeo\": [{\"marker\": {\"colorbar\": {\"outlinewidth\": 0, \"ticks\": \"\"}}, \"type\": \"scattergeo\"}], \"scattergl\": [{\"marker\": {\"colorbar\": {\"outlinewidth\": 0, \"ticks\": \"\"}}, \"type\": \"scattergl\"}], \"scattermapbox\": [{\"marker\": {\"colorbar\": {\"outlinewidth\": 0, \"ticks\": \"\"}}, \"type\": \"scattermapbox\"}], \"scatterpolar\": [{\"marker\": {\"colorbar\": {\"outlinewidth\": 0, \"ticks\": \"\"}}, \"type\": \"scatterpolar\"}], \"scatterpolargl\": [{\"marker\": {\"colorbar\": {\"outlinewidth\": 0, \"ticks\": \"\"}}, \"type\": \"scatterpolargl\"}], \"scatterternary\": [{\"marker\": {\"colorbar\": {\"outlinewidth\": 0, \"ticks\": \"\"}}, \"type\": \"scatterternary\"}], \"surface\": [{\"colorbar\": {\"outlinewidth\": 0, \"ticks\": \"\"}, \"colorscale\": [[0.0, \"#0d0887\"], [0.1111111111111111, \"#46039f\"], [0.2222222222222222, \"#7201a8\"], [0.3333333333333333, \"#9c179e\"], [0.4444444444444444, \"#bd3786\"], [0.5555555555555556, \"#d8576b\"], [0.6666666666666666, \"#ed7953\"], [0.7777777777777778, \"#fb9f3a\"], [0.8888888888888888, \"#fdca26\"], [1.0, \"#f0f921\"]], \"type\": \"surface\"}], \"table\": [{\"cells\": {\"fill\": {\"color\": \"#EBF0F8\"}, \"line\": {\"color\": \"white\"}}, \"header\": {\"fill\": {\"color\": \"#C8D4E3\"}, \"line\": {\"color\": \"white\"}}, \"type\": \"table\"}]}, \"layout\": {\"annotationdefaults\": {\"arrowcolor\": \"#2a3f5f\", \"arrowhead\": 0, \"arrowwidth\": 1}, \"autotypenumbers\": \"strict\", \"coloraxis\": {\"colorbar\": {\"outlinewidth\": 0, \"ticks\": \"\"}}, \"colorscale\": {\"diverging\": [[0, \"#8e0152\"], [0.1, \"#c51b7d\"], [0.2, \"#de77ae\"], [0.3, \"#f1b6da\"], [0.4, \"#fde0ef\"], [0.5, \"#f7f7f7\"], [0.6, \"#e6f5d0\"], [0.7, \"#b8e186\"], [0.8, \"#7fbc41\"], [0.9, \"#4d9221\"], [1, \"#276419\"]], \"sequential\": [[0.0, \"#0d0887\"], [0.1111111111111111, \"#46039f\"], [0.2222222222222222, \"#7201a8\"], [0.3333333333333333, \"#9c179e\"], [0.4444444444444444, \"#bd3786\"], [0.5555555555555556, \"#d8576b\"], [0.6666666666666666, \"#ed7953\"], [0.7777777777777778, \"#fb9f3a\"], [0.8888888888888888, \"#fdca26\"], [1.0, \"#f0f921\"]], \"sequentialminus\": [[0.0, \"#0d0887\"], [0.1111111111111111, \"#46039f\"], [0.2222222222222222, \"#7201a8\"], [0.3333333333333333, \"#9c179e\"], [0.4444444444444444, \"#bd3786\"], [0.5555555555555556, \"#d8576b\"], [0.6666666666666666, \"#ed7953\"], [0.7777777777777778, \"#fb9f3a\"], [0.8888888888888888, \"#fdca26\"], [1.0, \"#f0f921\"]]}, \"colorway\": [\"#636efa\", \"#EF553B\", \"#00cc96\", \"#ab63fa\", \"#FFA15A\", \"#19d3f3\", \"#FF6692\", \"#B6E880\", \"#FF97FF\", \"#FECB52\"], \"font\": {\"color\": \"#2a3f5f\"}, \"geo\": {\"bgcolor\": \"white\", \"lakecolor\": \"white\", \"landcolor\": \"#E5ECF6\", \"showlakes\": true, \"showland\": true, \"subunitcolor\": \"white\"}, \"hoverlabel\": {\"align\": \"left\"}, \"hovermode\": \"closest\", \"mapbox\": {\"style\": \"light\"}, \"paper_bgcolor\": \"white\", \"plot_bgcolor\": \"#E5ECF6\", \"polar\": {\"angularaxis\": {\"gridcolor\": \"white\", \"linecolor\": \"white\", \"ticks\": \"\"}, \"bgcolor\": \"#E5ECF6\", \"radialaxis\": {\"gridcolor\": \"white\", \"linecolor\": \"white\", \"ticks\": \"\"}}, \"scene\": {\"xaxis\": {\"backgroundcolor\": \"#E5ECF6\", \"gridcolor\": \"white\", \"gridwidth\": 2, \"linecolor\": \"white\", \"showbackground\": true, \"ticks\": \"\", \"zerolinecolor\": \"white\"}, \"yaxis\": {\"backgroundcolor\": \"#E5ECF6\", \"gridcolor\": \"white\", \"gridwidth\": 2, \"linecolor\": \"white\", \"showbackground\": true, \"ticks\": \"\", \"zerolinecolor\": \"white\"}, \"zaxis\": {\"backgroundcolor\": \"#E5ECF6\", \"gridcolor\": \"white\", \"gridwidth\": 2, \"linecolor\": \"white\", \"showbackground\": true, \"ticks\": \"\", \"zerolinecolor\": \"white\"}}, \"shapedefaults\": {\"line\": {\"color\": \"#2a3f5f\"}}, \"ternary\": {\"aaxis\": {\"gridcolor\": \"white\", \"linecolor\": \"white\", \"ticks\": \"\"}, \"baxis\": {\"gridcolor\": \"white\", \"linecolor\": \"white\", \"ticks\": \"\"}, \"bgcolor\": \"#E5ECF6\", \"caxis\": {\"gridcolor\": \"white\", \"linecolor\": \"white\", \"ticks\": \"\"}}, \"title\": {\"x\": 0.05}, \"xaxis\": {\"automargin\": true, \"gridcolor\": \"white\", \"linecolor\": \"white\", \"ticks\": \"\", \"title\": {\"standoff\": 15}, \"zerolinecolor\": \"white\", \"zerolinewidth\": 2}, \"yaxis\": {\"automargin\": true, \"gridcolor\": \"white\", \"linecolor\": \"white\", \"ticks\": \"\", \"title\": {\"standoff\": 15}, \"zerolinecolor\": \"white\", \"zerolinewidth\": 2}}}, \"title\": {\"text\": \"Comportamienot del comercio por indicador\"}, \"xaxis\": {\"anchor\": \"y\", \"domain\": [0.0, 1.0], \"title\": {\"text\": \"Grupo\"}}, \"yaxis\": {\"anchor\": \"x\", \"domain\": [0.0, 1.0], \"title\": {\"text\": \"Valor\"}}},                        {\"responsive\": true}                    ).then(function(){\n",
       "                            \n",
       "var gd = document.getElementById('32118c9f-f208-4dec-a453-5455a6fb7044');\n",
       "var x = new MutationObserver(function (mutations, observer) {{\n",
       "        var display = window.getComputedStyle(gd).display;\n",
       "        if (!display || display === 'none') {{\n",
       "            console.log([gd, 'removed!']);\n",
       "            Plotly.purge(gd);\n",
       "            observer.disconnect();\n",
       "        }}\n",
       "}});\n",
       "\n",
       "// Listen for the removal of the full notebook cells\n",
       "var notebookContainer = gd.closest('#notebook-container');\n",
       "if (notebookContainer) {{\n",
       "    x.observe(notebookContainer, {childList: true});\n",
       "}}\n",
       "\n",
       "// Listen for the clearing of the current output cell\n",
       "var outputEl = gd.closest('.output');\n",
       "if (outputEl) {{\n",
       "    x.observe(outputEl, {childList: true});\n",
       "}}\n",
       "\n",
       "                        })                };                });            </script>        </div>"
      ]
     },
     "metadata": {},
     "output_type": "display_data"
    }
   ],
   "source": [
    "# Barras PIB por grupo\n",
    "\n",
    "fig = px.bar(df_pib_Grupo, x=\"GRUPO\", y=\"VALUE\", barmode=\"group\", height=400, labels={\n",
    "                     \"GRUPO\": \"Grupo\",\n",
    "                     \"VALUE\": \"Valor\"\n",
    "                 })\n",
    "fig.update_layout(title_text=\"Comportamienot del comercio por indicador\", plot_bgcolor='rgb(230, 230, 230)')\n",
    "\n",
    "fig.show()"
   ]
  },
  {
   "cell_type": "code",
   "execution_count": 15,
   "id": "positive-tribune",
   "metadata": {},
   "outputs": [
    {
     "data": {
      "text/html": [
       "<div>\n",
       "<style scoped>\n",
       "    .dataframe tbody tr th:only-of-type {\n",
       "        vertical-align: middle;\n",
       "    }\n",
       "\n",
       "    .dataframe tbody tr th {\n",
       "        vertical-align: top;\n",
       "    }\n",
       "\n",
       "    .dataframe thead th {\n",
       "        text-align: right;\n",
       "    }\n",
       "</style>\n",
       "<table border=\"1\" class=\"dataframe\">\n",
       "  <thead>\n",
       "    <tr style=\"text-align: right;\">\n",
       "      <th></th>\n",
       "      <th>DET_1</th>\n",
       "      <th>VALUE</th>\n",
       "    </tr>\n",
       "  </thead>\n",
       "  <tbody>\n",
       "    <tr>\n",
       "      <th>0</th>\n",
       "      <td>AM</td>\n",
       "      <td>3128</td>\n",
       "    </tr>\n",
       "    <tr>\n",
       "      <th>1</th>\n",
       "      <td>AU</td>\n",
       "      <td>6290</td>\n",
       "    </tr>\n",
       "    <tr>\n",
       "      <th>2</th>\n",
       "      <td>Administración pública</td>\n",
       "      <td>16422</td>\n",
       "    </tr>\n",
       "    <tr>\n",
       "      <th>3</th>\n",
       "      <td>Bodega</td>\n",
       "      <td>42432</td>\n",
       "    </tr>\n",
       "    <tr>\n",
       "      <th>4</th>\n",
       "      <td>COMERCIALIZACION</td>\n",
       "      <td>81396</td>\n",
       "    </tr>\n",
       "  </tbody>\n",
       "</table>\n",
       "</div>"
      ],
      "text/plain": [
       "                    DET_1  VALUE\n",
       "0                      AM   3128\n",
       "1                      AU   6290\n",
       "2  Administración pública  16422\n",
       "3                  Bodega  42432\n",
       "4        COMERCIALIZACION  81396"
      ]
     },
     "execution_count": 15,
     "metadata": {},
     "output_type": "execute_result"
    }
   ],
   "source": [
    "df_pib_det=df.groupby('DET_1').agg({ 'VALUE': 'count'\n",
    "   \n",
    "                              })\n",
    "\n",
    "df_pib_det=df_pib_det.reset_index()\n",
    "\n",
    "df_pib_det.head(5)"
   ]
  },
  {
   "cell_type": "code",
   "execution_count": 16,
   "id": "insured-letter",
   "metadata": {},
   "outputs": [
    {
     "data": {
      "text/html": [
       "<div>                            <div id=\"c50c5823-2d06-4ef8-8a60-960531a3dfd2\" class=\"plotly-graph-div\" style=\"height:400px; width:100%;\"></div>            <script type=\"text/javascript\">                require([\"plotly\"], function(Plotly) {                    window.PLOTLYENV=window.PLOTLYENV || {};                                    if (document.getElementById(\"c50c5823-2d06-4ef8-8a60-960531a3dfd2\")) {                    Plotly.newPlot(                        \"c50c5823-2d06-4ef8-8a60-960531a3dfd2\",                        [{\"alignmentgroup\": \"True\", \"hovertemplate\": \"Segmento=%{x}<br>Valor=%{y}<extra></extra>\", \"legendgroup\": \"\", \"marker\": {\"color\": \"#636efa\"}, \"name\": \"\", \"offsetgroup\": \"\", \"orientation\": \"v\", \"showlegend\": false, \"textposition\": \"auto\", \"type\": \"bar\", \"x\": [\"AM\", \"AU\", \"Administraci\\u00f3n p\\u00fablica\", \"Bodega\", \"COMERCIALIZACION\", \"CONCRETERAS\", \"CONSTRUCTORES Y CONTRATISTAS\", \"Comercio\", \"EDIFICACIONES\", \"EMPACADO\", \"Educaci\\u00f3n\", \"GRANEL\", \"Hospital\", \"Hotel\", \"Industria\", \"No VIS\", \"Nominal\", \"OBRAS CIVILES\", \"OTROS\", \"Oficina\", \"Otro\", \"Real\", \"Religioso\", \"Social\", \"Total\", \"VIS\", \"VIVIENDA\", \"Vivienda\"], \"xaxis\": \"x\", \"y\": [3128, 6290, 16422, 42432, 81396, 81396, 81362, 87754, 45526, 4556, 49402, 4522, 32062, 33082, 24956, 89658, 1088, 45492, 118830, 37264, 12070, 1020, 22712, 24106, 89760, 69938, 45492, 89726], \"yaxis\": \"y\"}],                        {\"barmode\": \"group\", \"height\": 400, \"legend\": {\"tracegroupgap\": 0}, \"margin\": {\"t\": 60}, \"plot_bgcolor\": \"rgb(230, 230, 230)\", \"template\": {\"data\": {\"bar\": [{\"error_x\": {\"color\": \"#2a3f5f\"}, \"error_y\": {\"color\": \"#2a3f5f\"}, \"marker\": {\"line\": {\"color\": \"#E5ECF6\", \"width\": 0.5}}, \"type\": \"bar\"}], \"barpolar\": [{\"marker\": {\"line\": {\"color\": \"#E5ECF6\", \"width\": 0.5}}, \"type\": \"barpolar\"}], \"carpet\": [{\"aaxis\": {\"endlinecolor\": \"#2a3f5f\", \"gridcolor\": \"white\", \"linecolor\": \"white\", \"minorgridcolor\": \"white\", \"startlinecolor\": \"#2a3f5f\"}, \"baxis\": {\"endlinecolor\": \"#2a3f5f\", \"gridcolor\": \"white\", \"linecolor\": \"white\", \"minorgridcolor\": \"white\", \"startlinecolor\": \"#2a3f5f\"}, \"type\": \"carpet\"}], \"choropleth\": [{\"colorbar\": {\"outlinewidth\": 0, \"ticks\": \"\"}, \"type\": \"choropleth\"}], \"contour\": [{\"colorbar\": {\"outlinewidth\": 0, \"ticks\": \"\"}, \"colorscale\": [[0.0, \"#0d0887\"], [0.1111111111111111, \"#46039f\"], [0.2222222222222222, \"#7201a8\"], [0.3333333333333333, \"#9c179e\"], [0.4444444444444444, \"#bd3786\"], [0.5555555555555556, \"#d8576b\"], [0.6666666666666666, \"#ed7953\"], [0.7777777777777778, \"#fb9f3a\"], [0.8888888888888888, \"#fdca26\"], [1.0, \"#f0f921\"]], \"type\": \"contour\"}], \"contourcarpet\": [{\"colorbar\": {\"outlinewidth\": 0, \"ticks\": \"\"}, \"type\": \"contourcarpet\"}], \"heatmap\": [{\"colorbar\": {\"outlinewidth\": 0, \"ticks\": \"\"}, \"colorscale\": [[0.0, \"#0d0887\"], [0.1111111111111111, \"#46039f\"], [0.2222222222222222, \"#7201a8\"], [0.3333333333333333, \"#9c179e\"], [0.4444444444444444, \"#bd3786\"], [0.5555555555555556, \"#d8576b\"], [0.6666666666666666, \"#ed7953\"], [0.7777777777777778, \"#fb9f3a\"], [0.8888888888888888, \"#fdca26\"], [1.0, \"#f0f921\"]], \"type\": \"heatmap\"}], \"heatmapgl\": [{\"colorbar\": {\"outlinewidth\": 0, \"ticks\": \"\"}, \"colorscale\": [[0.0, \"#0d0887\"], [0.1111111111111111, \"#46039f\"], [0.2222222222222222, \"#7201a8\"], [0.3333333333333333, \"#9c179e\"], [0.4444444444444444, \"#bd3786\"], [0.5555555555555556, \"#d8576b\"], [0.6666666666666666, \"#ed7953\"], [0.7777777777777778, \"#fb9f3a\"], [0.8888888888888888, \"#fdca26\"], [1.0, \"#f0f921\"]], \"type\": \"heatmapgl\"}], \"histogram\": [{\"marker\": {\"colorbar\": {\"outlinewidth\": 0, \"ticks\": \"\"}}, \"type\": \"histogram\"}], \"histogram2d\": [{\"colorbar\": {\"outlinewidth\": 0, \"ticks\": \"\"}, \"colorscale\": [[0.0, \"#0d0887\"], [0.1111111111111111, \"#46039f\"], [0.2222222222222222, \"#7201a8\"], [0.3333333333333333, \"#9c179e\"], [0.4444444444444444, \"#bd3786\"], [0.5555555555555556, \"#d8576b\"], [0.6666666666666666, \"#ed7953\"], [0.7777777777777778, \"#fb9f3a\"], [0.8888888888888888, \"#fdca26\"], [1.0, \"#f0f921\"]], \"type\": \"histogram2d\"}], \"histogram2dcontour\": [{\"colorbar\": {\"outlinewidth\": 0, \"ticks\": \"\"}, \"colorscale\": [[0.0, \"#0d0887\"], [0.1111111111111111, \"#46039f\"], [0.2222222222222222, \"#7201a8\"], [0.3333333333333333, \"#9c179e\"], [0.4444444444444444, \"#bd3786\"], [0.5555555555555556, \"#d8576b\"], [0.6666666666666666, \"#ed7953\"], [0.7777777777777778, \"#fb9f3a\"], [0.8888888888888888, \"#fdca26\"], [1.0, \"#f0f921\"]], \"type\": \"histogram2dcontour\"}], \"mesh3d\": [{\"colorbar\": {\"outlinewidth\": 0, \"ticks\": \"\"}, \"type\": \"mesh3d\"}], \"parcoords\": [{\"line\": {\"colorbar\": {\"outlinewidth\": 0, \"ticks\": \"\"}}, \"type\": \"parcoords\"}], \"pie\": [{\"automargin\": true, \"type\": \"pie\"}], \"scatter\": [{\"marker\": {\"colorbar\": {\"outlinewidth\": 0, \"ticks\": \"\"}}, \"type\": \"scatter\"}], \"scatter3d\": [{\"line\": {\"colorbar\": {\"outlinewidth\": 0, \"ticks\": \"\"}}, \"marker\": {\"colorbar\": {\"outlinewidth\": 0, \"ticks\": \"\"}}, \"type\": \"scatter3d\"}], \"scattercarpet\": [{\"marker\": {\"colorbar\": {\"outlinewidth\": 0, \"ticks\": \"\"}}, \"type\": \"scattercarpet\"}], \"scattergeo\": [{\"marker\": {\"colorbar\": {\"outlinewidth\": 0, \"ticks\": \"\"}}, \"type\": \"scattergeo\"}], \"scattergl\": [{\"marker\": {\"colorbar\": {\"outlinewidth\": 0, \"ticks\": \"\"}}, \"type\": \"scattergl\"}], \"scattermapbox\": [{\"marker\": {\"colorbar\": {\"outlinewidth\": 0, \"ticks\": \"\"}}, \"type\": \"scattermapbox\"}], \"scatterpolar\": [{\"marker\": {\"colorbar\": {\"outlinewidth\": 0, \"ticks\": \"\"}}, \"type\": \"scatterpolar\"}], \"scatterpolargl\": [{\"marker\": {\"colorbar\": {\"outlinewidth\": 0, \"ticks\": \"\"}}, \"type\": \"scatterpolargl\"}], \"scatterternary\": [{\"marker\": {\"colorbar\": {\"outlinewidth\": 0, \"ticks\": \"\"}}, \"type\": \"scatterternary\"}], \"surface\": [{\"colorbar\": {\"outlinewidth\": 0, \"ticks\": \"\"}, \"colorscale\": [[0.0, \"#0d0887\"], [0.1111111111111111, \"#46039f\"], [0.2222222222222222, \"#7201a8\"], [0.3333333333333333, \"#9c179e\"], [0.4444444444444444, \"#bd3786\"], [0.5555555555555556, \"#d8576b\"], [0.6666666666666666, \"#ed7953\"], [0.7777777777777778, \"#fb9f3a\"], [0.8888888888888888, \"#fdca26\"], [1.0, \"#f0f921\"]], \"type\": \"surface\"}], \"table\": [{\"cells\": {\"fill\": {\"color\": \"#EBF0F8\"}, \"line\": {\"color\": \"white\"}}, \"header\": {\"fill\": {\"color\": \"#C8D4E3\"}, \"line\": {\"color\": \"white\"}}, \"type\": \"table\"}]}, \"layout\": {\"annotationdefaults\": {\"arrowcolor\": \"#2a3f5f\", \"arrowhead\": 0, \"arrowwidth\": 1}, \"autotypenumbers\": \"strict\", \"coloraxis\": {\"colorbar\": {\"outlinewidth\": 0, \"ticks\": \"\"}}, \"colorscale\": {\"diverging\": [[0, \"#8e0152\"], [0.1, \"#c51b7d\"], [0.2, \"#de77ae\"], [0.3, \"#f1b6da\"], [0.4, \"#fde0ef\"], [0.5, \"#f7f7f7\"], [0.6, \"#e6f5d0\"], [0.7, \"#b8e186\"], [0.8, \"#7fbc41\"], [0.9, \"#4d9221\"], [1, \"#276419\"]], \"sequential\": [[0.0, \"#0d0887\"], [0.1111111111111111, \"#46039f\"], [0.2222222222222222, \"#7201a8\"], [0.3333333333333333, \"#9c179e\"], [0.4444444444444444, \"#bd3786\"], [0.5555555555555556, \"#d8576b\"], [0.6666666666666666, \"#ed7953\"], [0.7777777777777778, \"#fb9f3a\"], [0.8888888888888888, \"#fdca26\"], [1.0, \"#f0f921\"]], \"sequentialminus\": [[0.0, \"#0d0887\"], [0.1111111111111111, \"#46039f\"], [0.2222222222222222, \"#7201a8\"], [0.3333333333333333, \"#9c179e\"], [0.4444444444444444, \"#bd3786\"], [0.5555555555555556, \"#d8576b\"], [0.6666666666666666, \"#ed7953\"], [0.7777777777777778, \"#fb9f3a\"], [0.8888888888888888, \"#fdca26\"], [1.0, \"#f0f921\"]]}, \"colorway\": [\"#636efa\", \"#EF553B\", \"#00cc96\", \"#ab63fa\", \"#FFA15A\", \"#19d3f3\", \"#FF6692\", \"#B6E880\", \"#FF97FF\", \"#FECB52\"], \"font\": {\"color\": \"#2a3f5f\"}, \"geo\": {\"bgcolor\": \"white\", \"lakecolor\": \"white\", \"landcolor\": \"#E5ECF6\", \"showlakes\": true, \"showland\": true, \"subunitcolor\": \"white\"}, \"hoverlabel\": {\"align\": \"left\"}, \"hovermode\": \"closest\", \"mapbox\": {\"style\": \"light\"}, \"paper_bgcolor\": \"white\", \"plot_bgcolor\": \"#E5ECF6\", \"polar\": {\"angularaxis\": {\"gridcolor\": \"white\", \"linecolor\": \"white\", \"ticks\": \"\"}, \"bgcolor\": \"#E5ECF6\", \"radialaxis\": {\"gridcolor\": \"white\", \"linecolor\": \"white\", \"ticks\": \"\"}}, \"scene\": {\"xaxis\": {\"backgroundcolor\": \"#E5ECF6\", \"gridcolor\": \"white\", \"gridwidth\": 2, \"linecolor\": \"white\", \"showbackground\": true, \"ticks\": \"\", \"zerolinecolor\": \"white\"}, \"yaxis\": {\"backgroundcolor\": \"#E5ECF6\", \"gridcolor\": \"white\", \"gridwidth\": 2, \"linecolor\": \"white\", \"showbackground\": true, \"ticks\": \"\", \"zerolinecolor\": \"white\"}, \"zaxis\": {\"backgroundcolor\": \"#E5ECF6\", \"gridcolor\": \"white\", \"gridwidth\": 2, \"linecolor\": \"white\", \"showbackground\": true, \"ticks\": \"\", \"zerolinecolor\": \"white\"}}, \"shapedefaults\": {\"line\": {\"color\": \"#2a3f5f\"}}, \"ternary\": {\"aaxis\": {\"gridcolor\": \"white\", \"linecolor\": \"white\", \"ticks\": \"\"}, \"baxis\": {\"gridcolor\": \"white\", \"linecolor\": \"white\", \"ticks\": \"\"}, \"bgcolor\": \"#E5ECF6\", \"caxis\": {\"gridcolor\": \"white\", \"linecolor\": \"white\", \"ticks\": \"\"}}, \"title\": {\"x\": 0.05}, \"xaxis\": {\"automargin\": true, \"gridcolor\": \"white\", \"linecolor\": \"white\", \"ticks\": \"\", \"title\": {\"standoff\": 15}, \"zerolinecolor\": \"white\", \"zerolinewidth\": 2}, \"yaxis\": {\"automargin\": true, \"gridcolor\": \"white\", \"linecolor\": \"white\", \"ticks\": \"\", \"title\": {\"standoff\": 15}, \"zerolinecolor\": \"white\", \"zerolinewidth\": 2}}}, \"title\": {\"text\": \"Comportamiento del comercio por segmento\"}, \"xaxis\": {\"anchor\": \"y\", \"domain\": [0.0, 1.0], \"title\": {\"text\": \"Segmento\"}}, \"yaxis\": {\"anchor\": \"x\", \"domain\": [0.0, 1.0], \"title\": {\"text\": \"Valor\"}}},                        {\"responsive\": true}                    ).then(function(){\n",
       "                            \n",
       "var gd = document.getElementById('c50c5823-2d06-4ef8-8a60-960531a3dfd2');\n",
       "var x = new MutationObserver(function (mutations, observer) {{\n",
       "        var display = window.getComputedStyle(gd).display;\n",
       "        if (!display || display === 'none') {{\n",
       "            console.log([gd, 'removed!']);\n",
       "            Plotly.purge(gd);\n",
       "            observer.disconnect();\n",
       "        }}\n",
       "}});\n",
       "\n",
       "// Listen for the removal of the full notebook cells\n",
       "var notebookContainer = gd.closest('#notebook-container');\n",
       "if (notebookContainer) {{\n",
       "    x.observe(notebookContainer, {childList: true});\n",
       "}}\n",
       "\n",
       "// Listen for the clearing of the current output cell\n",
       "var outputEl = gd.closest('.output');\n",
       "if (outputEl) {{\n",
       "    x.observe(outputEl, {childList: true});\n",
       "}}\n",
       "\n",
       "                        })                };                });            </script>        </div>"
      ]
     },
     "metadata": {},
     "output_type": "display_data"
    }
   ],
   "source": [
    "# Barras PIB por det_1\n",
    "\n",
    "fig = px.bar(df_pib_det, x=\"DET_1\", y=\"VALUE\", barmode=\"group\", height=400, labels={\n",
    "                     \"DET_1\": \"Segmento\",\n",
    "                     \"VALUE\": \"Valor\"\n",
    "                 })\n",
    "fig.update_layout(title_text=\"Comportamiento del comercio por segmento\", plot_bgcolor='rgb(230, 230, 230)')\n",
    "\n",
    "fig.show()"
   ]
  },
  {
   "cell_type": "markdown",
   "id": "visible-impossible",
   "metadata": {},
   "source": [
    "## Antioquia con indicador MERCADO CEMENTO DEPTO CANAL."
   ]
  },
  {
   "cell_type": "code",
   "execution_count": 17,
   "id": "animated-metallic",
   "metadata": {},
   "outputs": [
    {
     "data": {
      "text/html": [
       "<div>\n",
       "<style scoped>\n",
       "    .dataframe tbody tr th:only-of-type {\n",
       "        vertical-align: middle;\n",
       "    }\n",
       "\n",
       "    .dataframe tbody tr th {\n",
       "        vertical-align: top;\n",
       "    }\n",
       "\n",
       "    .dataframe thead th {\n",
       "        text-align: right;\n",
       "    }\n",
       "</style>\n",
       "<table border=\"1\" class=\"dataframe\">\n",
       "  <thead>\n",
       "    <tr style=\"text-align: right;\">\n",
       "      <th></th>\n",
       "      <th>DATE</th>\n",
       "      <th>VALUE</th>\n",
       "      <th>GRUPO</th>\n",
       "      <th>REGION_NAME</th>\n",
       "      <th>DET_1</th>\n",
       "    </tr>\n",
       "  </thead>\n",
       "  <tbody>\n",
       "    <tr>\n",
       "      <th>1</th>\n",
       "      <td>2016-05-01 00:00:00.0000000</td>\n",
       "      <td>363.0</td>\n",
       "      <td>MERCADO CEMENTO DEPTO CANAL</td>\n",
       "      <td>Antioquia</td>\n",
       "      <td>OTROS</td>\n",
       "    </tr>\n",
       "    <tr>\n",
       "      <th>69</th>\n",
       "      <td>2016-02-01 00:00:00.0000000</td>\n",
       "      <td>82342.0</td>\n",
       "      <td>MERCADO CEMENTO DEPTO CANAL</td>\n",
       "      <td>Antioquia</td>\n",
       "      <td>COMERCIALIZACION</td>\n",
       "    </tr>\n",
       "    <tr>\n",
       "      <th>103</th>\n",
       "      <td>2013-06-01 00:00:00.0000000</td>\n",
       "      <td>14315.0</td>\n",
       "      <td>MERCADO CEMENTO DEPTO CANAL</td>\n",
       "      <td>Antioquia</td>\n",
       "      <td>CONSTRUCTORES Y CONTRATISTAS</td>\n",
       "    </tr>\n",
       "    <tr>\n",
       "      <th>137</th>\n",
       "      <td>2010-10-01 00:00:00.0000000</td>\n",
       "      <td>7425.0</td>\n",
       "      <td>MERCADO CEMENTO DEPTO CANAL</td>\n",
       "      <td>Antioquia</td>\n",
       "      <td>OTROS</td>\n",
       "    </tr>\n",
       "    <tr>\n",
       "      <th>171</th>\n",
       "      <td>2016-10-01 00:00:00.0000000</td>\n",
       "      <td>4769.0</td>\n",
       "      <td>MERCADO CEMENTO DEPTO CANAL</td>\n",
       "      <td>Antioquia</td>\n",
       "      <td>CONSTRUCTORES Y CONTRATISTAS</td>\n",
       "    </tr>\n",
       "  </tbody>\n",
       "</table>\n",
       "</div>"
      ],
      "text/plain": [
       "                            DATE    VALUE                        GRUPO  \\\n",
       "1    2016-05-01 00:00:00.0000000    363.0  MERCADO CEMENTO DEPTO CANAL   \n",
       "69   2016-02-01 00:00:00.0000000  82342.0  MERCADO CEMENTO DEPTO CANAL   \n",
       "103  2013-06-01 00:00:00.0000000  14315.0  MERCADO CEMENTO DEPTO CANAL   \n",
       "137  2010-10-01 00:00:00.0000000   7425.0  MERCADO CEMENTO DEPTO CANAL   \n",
       "171  2016-10-01 00:00:00.0000000   4769.0  MERCADO CEMENTO DEPTO CANAL   \n",
       "\n",
       "    REGION_NAME                         DET_1  \n",
       "1     Antioquia                         OTROS  \n",
       "69    Antioquia              COMERCIALIZACION  \n",
       "103   Antioquia  CONSTRUCTORES Y CONTRATISTAS  \n",
       "137   Antioquia                         OTROS  \n",
       "171   Antioquia  CONSTRUCTORES Y CONTRATISTAS  "
      ]
     },
     "execution_count": 17,
     "metadata": {},
     "output_type": "execute_result"
    }
   ],
   "source": [
    "# Filtrado region e indicador\n",
    "\n",
    "df1=df.copy()\n",
    "\n",
    "df11=df1['REGION_NAME']=='Antioquia'\n",
    "\n",
    "df111 = df1[df11]\n",
    "\n",
    "\n",
    "dff=df111['GRUPO']=='MERCADO CEMENTO DEPTO CANAL'\n",
    "\n",
    "df2 = df111[dff]\n",
    "\n",
    "\n",
    "\n",
    "df2.head(5)\n"
   ]
  },
  {
   "cell_type": "code",
   "execution_count": 18,
   "id": "collaborative-badge",
   "metadata": {},
   "outputs": [
    {
     "data": {
      "text/plain": [
       "0"
      ]
     },
     "execution_count": 18,
     "metadata": {},
     "output_type": "execute_result"
    }
   ],
   "source": [
    "df2.duplicated().sum() "
   ]
  },
  {
   "cell_type": "code",
   "execution_count": 19,
   "id": "minor-junior",
   "metadata": {},
   "outputs": [
    {
     "data": {
      "text/html": [
       "<div>\n",
       "<style scoped>\n",
       "    .dataframe tbody tr th:only-of-type {\n",
       "        vertical-align: middle;\n",
       "    }\n",
       "\n",
       "    .dataframe tbody tr th {\n",
       "        vertical-align: top;\n",
       "    }\n",
       "\n",
       "    .dataframe thead th {\n",
       "        text-align: right;\n",
       "    }\n",
       "</style>\n",
       "<table border=\"1\" class=\"dataframe\">\n",
       "  <thead>\n",
       "    <tr style=\"text-align: right;\">\n",
       "      <th></th>\n",
       "      <th>VALUE</th>\n",
       "    </tr>\n",
       "  </thead>\n",
       "  <tbody>\n",
       "    <tr>\n",
       "      <th>count</th>\n",
       "      <td>9562.000000</td>\n",
       "    </tr>\n",
       "    <tr>\n",
       "      <th>mean</th>\n",
       "      <td>11220.416545</td>\n",
       "    </tr>\n",
       "    <tr>\n",
       "      <th>std</th>\n",
       "      <td>14139.310909</td>\n",
       "    </tr>\n",
       "    <tr>\n",
       "      <th>min</th>\n",
       "      <td>0.000000</td>\n",
       "    </tr>\n",
       "    <tr>\n",
       "      <th>25%</th>\n",
       "      <td>2031.000000</td>\n",
       "    </tr>\n",
       "    <tr>\n",
       "      <th>50%</th>\n",
       "      <td>5843.500000</td>\n",
       "    </tr>\n",
       "    <tr>\n",
       "      <th>75%</th>\n",
       "      <td>15010.250000</td>\n",
       "    </tr>\n",
       "    <tr>\n",
       "      <th>max</th>\n",
       "      <td>92181.000000</td>\n",
       "    </tr>\n",
       "  </tbody>\n",
       "</table>\n",
       "</div>"
      ],
      "text/plain": [
       "              VALUE\n",
       "count   9562.000000\n",
       "mean   11220.416545\n",
       "std    14139.310909\n",
       "min        0.000000\n",
       "25%     2031.000000\n",
       "50%     5843.500000\n",
       "75%    15010.250000\n",
       "max    92181.000000"
      ]
     },
     "execution_count": 19,
     "metadata": {},
     "output_type": "execute_result"
    }
   ],
   "source": [
    "df2.describe()"
   ]
  },
  {
   "cell_type": "code",
   "execution_count": 20,
   "id": "numerical-platinum",
   "metadata": {},
   "outputs": [
    {
     "data": {
      "text/html": [
       "<div>\n",
       "<style scoped>\n",
       "    .dataframe tbody tr th:only-of-type {\n",
       "        vertical-align: middle;\n",
       "    }\n",
       "\n",
       "    .dataframe tbody tr th {\n",
       "        vertical-align: top;\n",
       "    }\n",
       "\n",
       "    .dataframe thead th {\n",
       "        text-align: right;\n",
       "    }\n",
       "</style>\n",
       "<table border=\"1\" class=\"dataframe\">\n",
       "  <thead>\n",
       "    <tr style=\"text-align: right;\">\n",
       "      <th></th>\n",
       "      <th>DET_1</th>\n",
       "      <th>VALUE</th>\n",
       "    </tr>\n",
       "  </thead>\n",
       "  <tbody>\n",
       "    <tr>\n",
       "      <th>0</th>\n",
       "      <td>COMERCIALIZACION</td>\n",
       "      <td>57594179.0</td>\n",
       "    </tr>\n",
       "    <tr>\n",
       "      <th>1</th>\n",
       "      <td>CONCRETERAS</td>\n",
       "      <td>23876580.0</td>\n",
       "    </tr>\n",
       "    <tr>\n",
       "      <th>2</th>\n",
       "      <td>CONSTRUCTORES Y CONTRATISTAS</td>\n",
       "      <td>20229756.0</td>\n",
       "    </tr>\n",
       "    <tr>\n",
       "      <th>3</th>\n",
       "      <td>OTROS</td>\n",
       "      <td>5589108.0</td>\n",
       "    </tr>\n",
       "  </tbody>\n",
       "</table>\n",
       "</div>"
      ],
      "text/plain": [
       "                          DET_1       VALUE\n",
       "0              COMERCIALIZACION  57594179.0\n",
       "1                   CONCRETERAS  23876580.0\n",
       "2  CONSTRUCTORES Y CONTRATISTAS  20229756.0\n",
       "3                         OTROS   5589108.0"
      ]
     },
     "execution_count": 20,
     "metadata": {},
     "output_type": "execute_result"
    }
   ],
   "source": [
    "df2_pib_det=df2.groupby('DET_1').agg({ 'VALUE': 'sum'\n",
    "   \n",
    "                              })\n",
    "\n",
    "df2_pib_det=df2_pib_det.reset_index()\n",
    "\n",
    "df2_pib_det.head(5)"
   ]
  },
  {
   "cell_type": "code",
   "execution_count": 21,
   "id": "metallic-investigation",
   "metadata": {},
   "outputs": [
    {
     "data": {
      "text/html": [
       "<div>                            <div id=\"ed556ae2-207e-42d6-8a27-ff5839508fd0\" class=\"plotly-graph-div\" style=\"height:400px; width:100%;\"></div>            <script type=\"text/javascript\">                require([\"plotly\"], function(Plotly) {                    window.PLOTLYENV=window.PLOTLYENV || {};                                    if (document.getElementById(\"ed556ae2-207e-42d6-8a27-ff5839508fd0\")) {                    Plotly.newPlot(                        \"ed556ae2-207e-42d6-8a27-ff5839508fd0\",                        [{\"alignmentgroup\": \"True\", \"hovertemplate\": \"Segmento=%{x}<br>Valor=%{y}<extra></extra>\", \"legendgroup\": \"\", \"marker\": {\"color\": \"#636efa\"}, \"name\": \"\", \"offsetgroup\": \"\", \"orientation\": \"v\", \"showlegend\": false, \"textposition\": \"auto\", \"type\": \"bar\", \"x\": [\"COMERCIALIZACION\", \"CONCRETERAS\", \"CONSTRUCTORES Y CONTRATISTAS\", \"OTROS\"], \"xaxis\": \"x\", \"y\": [57594179.0, 23876580.0, 20229756.0, 5589108.0], \"yaxis\": \"y\"}],                        {\"barmode\": \"group\", \"height\": 400, \"legend\": {\"tracegroupgap\": 0}, \"margin\": {\"t\": 60}, \"plot_bgcolor\": \"rgb(230, 230, 230)\", \"template\": {\"data\": {\"bar\": [{\"error_x\": {\"color\": \"#2a3f5f\"}, \"error_y\": {\"color\": \"#2a3f5f\"}, \"marker\": {\"line\": {\"color\": \"#E5ECF6\", \"width\": 0.5}}, \"type\": \"bar\"}], \"barpolar\": [{\"marker\": {\"line\": {\"color\": \"#E5ECF6\", \"width\": 0.5}}, \"type\": \"barpolar\"}], \"carpet\": [{\"aaxis\": {\"endlinecolor\": \"#2a3f5f\", \"gridcolor\": \"white\", \"linecolor\": \"white\", \"minorgridcolor\": \"white\", \"startlinecolor\": \"#2a3f5f\"}, \"baxis\": {\"endlinecolor\": \"#2a3f5f\", \"gridcolor\": \"white\", \"linecolor\": \"white\", \"minorgridcolor\": \"white\", \"startlinecolor\": \"#2a3f5f\"}, \"type\": \"carpet\"}], \"choropleth\": [{\"colorbar\": {\"outlinewidth\": 0, \"ticks\": \"\"}, \"type\": \"choropleth\"}], \"contour\": [{\"colorbar\": {\"outlinewidth\": 0, \"ticks\": \"\"}, \"colorscale\": [[0.0, \"#0d0887\"], [0.1111111111111111, \"#46039f\"], [0.2222222222222222, \"#7201a8\"], [0.3333333333333333, \"#9c179e\"], [0.4444444444444444, \"#bd3786\"], [0.5555555555555556, \"#d8576b\"], [0.6666666666666666, \"#ed7953\"], [0.7777777777777778, \"#fb9f3a\"], [0.8888888888888888, \"#fdca26\"], [1.0, \"#f0f921\"]], \"type\": \"contour\"}], \"contourcarpet\": [{\"colorbar\": {\"outlinewidth\": 0, \"ticks\": \"\"}, \"type\": \"contourcarpet\"}], \"heatmap\": [{\"colorbar\": {\"outlinewidth\": 0, \"ticks\": \"\"}, \"colorscale\": [[0.0, \"#0d0887\"], [0.1111111111111111, \"#46039f\"], [0.2222222222222222, \"#7201a8\"], [0.3333333333333333, \"#9c179e\"], [0.4444444444444444, \"#bd3786\"], [0.5555555555555556, \"#d8576b\"], [0.6666666666666666, \"#ed7953\"], [0.7777777777777778, \"#fb9f3a\"], [0.8888888888888888, \"#fdca26\"], [1.0, \"#f0f921\"]], \"type\": \"heatmap\"}], \"heatmapgl\": [{\"colorbar\": {\"outlinewidth\": 0, \"ticks\": \"\"}, \"colorscale\": [[0.0, \"#0d0887\"], [0.1111111111111111, \"#46039f\"], [0.2222222222222222, \"#7201a8\"], [0.3333333333333333, \"#9c179e\"], [0.4444444444444444, \"#bd3786\"], [0.5555555555555556, \"#d8576b\"], [0.6666666666666666, \"#ed7953\"], [0.7777777777777778, \"#fb9f3a\"], [0.8888888888888888, \"#fdca26\"], [1.0, \"#f0f921\"]], \"type\": \"heatmapgl\"}], \"histogram\": [{\"marker\": {\"colorbar\": {\"outlinewidth\": 0, \"ticks\": \"\"}}, \"type\": \"histogram\"}], \"histogram2d\": [{\"colorbar\": {\"outlinewidth\": 0, \"ticks\": \"\"}, \"colorscale\": [[0.0, \"#0d0887\"], [0.1111111111111111, \"#46039f\"], [0.2222222222222222, \"#7201a8\"], [0.3333333333333333, \"#9c179e\"], [0.4444444444444444, \"#bd3786\"], [0.5555555555555556, \"#d8576b\"], [0.6666666666666666, \"#ed7953\"], [0.7777777777777778, \"#fb9f3a\"], [0.8888888888888888, \"#fdca26\"], [1.0, \"#f0f921\"]], \"type\": \"histogram2d\"}], \"histogram2dcontour\": [{\"colorbar\": {\"outlinewidth\": 0, \"ticks\": \"\"}, \"colorscale\": [[0.0, \"#0d0887\"], [0.1111111111111111, \"#46039f\"], [0.2222222222222222, \"#7201a8\"], [0.3333333333333333, \"#9c179e\"], [0.4444444444444444, \"#bd3786\"], [0.5555555555555556, \"#d8576b\"], [0.6666666666666666, \"#ed7953\"], [0.7777777777777778, \"#fb9f3a\"], [0.8888888888888888, \"#fdca26\"], [1.0, \"#f0f921\"]], \"type\": \"histogram2dcontour\"}], \"mesh3d\": [{\"colorbar\": {\"outlinewidth\": 0, \"ticks\": \"\"}, \"type\": \"mesh3d\"}], \"parcoords\": [{\"line\": {\"colorbar\": {\"outlinewidth\": 0, \"ticks\": \"\"}}, \"type\": \"parcoords\"}], \"pie\": [{\"automargin\": true, \"type\": \"pie\"}], \"scatter\": [{\"marker\": {\"colorbar\": {\"outlinewidth\": 0, \"ticks\": \"\"}}, \"type\": \"scatter\"}], \"scatter3d\": [{\"line\": {\"colorbar\": {\"outlinewidth\": 0, \"ticks\": \"\"}}, \"marker\": {\"colorbar\": {\"outlinewidth\": 0, \"ticks\": \"\"}}, \"type\": \"scatter3d\"}], \"scattercarpet\": [{\"marker\": {\"colorbar\": {\"outlinewidth\": 0, \"ticks\": \"\"}}, \"type\": \"scattercarpet\"}], \"scattergeo\": [{\"marker\": {\"colorbar\": {\"outlinewidth\": 0, \"ticks\": \"\"}}, \"type\": \"scattergeo\"}], \"scattergl\": [{\"marker\": {\"colorbar\": {\"outlinewidth\": 0, \"ticks\": \"\"}}, \"type\": \"scattergl\"}], \"scattermapbox\": [{\"marker\": {\"colorbar\": {\"outlinewidth\": 0, \"ticks\": \"\"}}, \"type\": \"scattermapbox\"}], \"scatterpolar\": [{\"marker\": {\"colorbar\": {\"outlinewidth\": 0, \"ticks\": \"\"}}, \"type\": \"scatterpolar\"}], \"scatterpolargl\": [{\"marker\": {\"colorbar\": {\"outlinewidth\": 0, \"ticks\": \"\"}}, \"type\": \"scatterpolargl\"}], \"scatterternary\": [{\"marker\": {\"colorbar\": {\"outlinewidth\": 0, \"ticks\": \"\"}}, \"type\": \"scatterternary\"}], \"surface\": [{\"colorbar\": {\"outlinewidth\": 0, \"ticks\": \"\"}, \"colorscale\": [[0.0, \"#0d0887\"], [0.1111111111111111, \"#46039f\"], [0.2222222222222222, \"#7201a8\"], [0.3333333333333333, \"#9c179e\"], [0.4444444444444444, \"#bd3786\"], [0.5555555555555556, \"#d8576b\"], [0.6666666666666666, \"#ed7953\"], [0.7777777777777778, \"#fb9f3a\"], [0.8888888888888888, \"#fdca26\"], [1.0, \"#f0f921\"]], \"type\": \"surface\"}], \"table\": [{\"cells\": {\"fill\": {\"color\": \"#EBF0F8\"}, \"line\": {\"color\": \"white\"}}, \"header\": {\"fill\": {\"color\": \"#C8D4E3\"}, \"line\": {\"color\": \"white\"}}, \"type\": \"table\"}]}, \"layout\": {\"annotationdefaults\": {\"arrowcolor\": \"#2a3f5f\", \"arrowhead\": 0, \"arrowwidth\": 1}, \"autotypenumbers\": \"strict\", \"coloraxis\": {\"colorbar\": {\"outlinewidth\": 0, \"ticks\": \"\"}}, \"colorscale\": {\"diverging\": [[0, \"#8e0152\"], [0.1, \"#c51b7d\"], [0.2, \"#de77ae\"], [0.3, \"#f1b6da\"], [0.4, \"#fde0ef\"], [0.5, \"#f7f7f7\"], [0.6, \"#e6f5d0\"], [0.7, \"#b8e186\"], [0.8, \"#7fbc41\"], [0.9, \"#4d9221\"], [1, \"#276419\"]], \"sequential\": [[0.0, \"#0d0887\"], [0.1111111111111111, \"#46039f\"], [0.2222222222222222, \"#7201a8\"], [0.3333333333333333, \"#9c179e\"], [0.4444444444444444, \"#bd3786\"], [0.5555555555555556, \"#d8576b\"], [0.6666666666666666, \"#ed7953\"], [0.7777777777777778, \"#fb9f3a\"], [0.8888888888888888, \"#fdca26\"], [1.0, \"#f0f921\"]], \"sequentialminus\": [[0.0, \"#0d0887\"], [0.1111111111111111, \"#46039f\"], [0.2222222222222222, \"#7201a8\"], [0.3333333333333333, \"#9c179e\"], [0.4444444444444444, \"#bd3786\"], [0.5555555555555556, \"#d8576b\"], [0.6666666666666666, \"#ed7953\"], [0.7777777777777778, \"#fb9f3a\"], [0.8888888888888888, \"#fdca26\"], [1.0, \"#f0f921\"]]}, \"colorway\": [\"#636efa\", \"#EF553B\", \"#00cc96\", \"#ab63fa\", \"#FFA15A\", \"#19d3f3\", \"#FF6692\", \"#B6E880\", \"#FF97FF\", \"#FECB52\"], \"font\": {\"color\": \"#2a3f5f\"}, \"geo\": {\"bgcolor\": \"white\", \"lakecolor\": \"white\", \"landcolor\": \"#E5ECF6\", \"showlakes\": true, \"showland\": true, \"subunitcolor\": \"white\"}, \"hoverlabel\": {\"align\": \"left\"}, \"hovermode\": \"closest\", \"mapbox\": {\"style\": \"light\"}, \"paper_bgcolor\": \"white\", \"plot_bgcolor\": \"#E5ECF6\", \"polar\": {\"angularaxis\": {\"gridcolor\": \"white\", \"linecolor\": \"white\", \"ticks\": \"\"}, \"bgcolor\": \"#E5ECF6\", \"radialaxis\": {\"gridcolor\": \"white\", \"linecolor\": \"white\", \"ticks\": \"\"}}, \"scene\": {\"xaxis\": {\"backgroundcolor\": \"#E5ECF6\", \"gridcolor\": \"white\", \"gridwidth\": 2, \"linecolor\": \"white\", \"showbackground\": true, \"ticks\": \"\", \"zerolinecolor\": \"white\"}, \"yaxis\": {\"backgroundcolor\": \"#E5ECF6\", \"gridcolor\": \"white\", \"gridwidth\": 2, \"linecolor\": \"white\", \"showbackground\": true, \"ticks\": \"\", \"zerolinecolor\": \"white\"}, \"zaxis\": {\"backgroundcolor\": \"#E5ECF6\", \"gridcolor\": \"white\", \"gridwidth\": 2, \"linecolor\": \"white\", \"showbackground\": true, \"ticks\": \"\", \"zerolinecolor\": \"white\"}}, \"shapedefaults\": {\"line\": {\"color\": \"#2a3f5f\"}}, \"ternary\": {\"aaxis\": {\"gridcolor\": \"white\", \"linecolor\": \"white\", \"ticks\": \"\"}, \"baxis\": {\"gridcolor\": \"white\", \"linecolor\": \"white\", \"ticks\": \"\"}, \"bgcolor\": \"#E5ECF6\", \"caxis\": {\"gridcolor\": \"white\", \"linecolor\": \"white\", \"ticks\": \"\"}}, \"title\": {\"x\": 0.05}, \"xaxis\": {\"automargin\": true, \"gridcolor\": \"white\", \"linecolor\": \"white\", \"ticks\": \"\", \"title\": {\"standoff\": 15}, \"zerolinecolor\": \"white\", \"zerolinewidth\": 2}, \"yaxis\": {\"automargin\": true, \"gridcolor\": \"white\", \"linecolor\": \"white\", \"ticks\": \"\", \"title\": {\"standoff\": 15}, \"zerolinecolor\": \"white\", \"zerolinewidth\": 2}}}, \"title\": {\"text\": \"'Comportamiento del comercio por segmento en Antioquia con indicador espec\\u00edfico'\"}, \"xaxis\": {\"anchor\": \"y\", \"domain\": [0.0, 1.0], \"title\": {\"text\": \"Segmento\"}}, \"yaxis\": {\"anchor\": \"x\", \"domain\": [0.0, 1.0], \"title\": {\"text\": \"Valor\"}}},                        {\"responsive\": true}                    ).then(function(){\n",
       "                            \n",
       "var gd = document.getElementById('ed556ae2-207e-42d6-8a27-ff5839508fd0');\n",
       "var x = new MutationObserver(function (mutations, observer) {{\n",
       "        var display = window.getComputedStyle(gd).display;\n",
       "        if (!display || display === 'none') {{\n",
       "            console.log([gd, 'removed!']);\n",
       "            Plotly.purge(gd);\n",
       "            observer.disconnect();\n",
       "        }}\n",
       "}});\n",
       "\n",
       "// Listen for the removal of the full notebook cells\n",
       "var notebookContainer = gd.closest('#notebook-container');\n",
       "if (notebookContainer) {{\n",
       "    x.observe(notebookContainer, {childList: true});\n",
       "}}\n",
       "\n",
       "// Listen for the clearing of the current output cell\n",
       "var outputEl = gd.closest('.output');\n",
       "if (outputEl) {{\n",
       "    x.observe(outputEl, {childList: true});\n",
       "}}\n",
       "\n",
       "                        })                };                });            </script>        </div>"
      ]
     },
     "metadata": {},
     "output_type": "display_data"
    }
   ],
   "source": [
    "# Barras PIB por det_1\n",
    "\n",
    "fig = px.bar(df2_pib_det, x=\"DET_1\", y=\"VALUE\", barmode=\"group\", height=400,\n",
    "             labels={\n",
    "                     \"DET_1\": \"Segmento\",\n",
    "                     \"VALUE\": \"Valor\"\n",
    "             })\n",
    "fig.update_layout(title_text=\"'Comportamiento del comercio por segmento en Antioquia con indicador específico'\", plot_bgcolor='rgb(230, 230, 230)')\n",
    "\n",
    "fig.show()"
   ]
  },
  {
   "cell_type": "code",
   "execution_count": 22,
   "id": "fantastic-guitar",
   "metadata": {},
   "outputs": [
    {
     "data": {
      "text/html": [
       "<div>\n",
       "<style scoped>\n",
       "    .dataframe tbody tr th:only-of-type {\n",
       "        vertical-align: middle;\n",
       "    }\n",
       "\n",
       "    .dataframe tbody tr th {\n",
       "        vertical-align: top;\n",
       "    }\n",
       "\n",
       "    .dataframe thead th {\n",
       "        text-align: right;\n",
       "    }\n",
       "</style>\n",
       "<table border=\"1\" class=\"dataframe\">\n",
       "  <thead>\n",
       "    <tr style=\"text-align: right;\">\n",
       "      <th></th>\n",
       "      <th>DATE</th>\n",
       "      <th>VALUE</th>\n",
       "      <th>GRUPO</th>\n",
       "      <th>REGION_NAME</th>\n",
       "      <th>DET_1</th>\n",
       "    </tr>\n",
       "  </thead>\n",
       "  <tbody>\n",
       "    <tr>\n",
       "      <th>69</th>\n",
       "      <td>2016-02-01 00:00:00.0000000</td>\n",
       "      <td>82342.0</td>\n",
       "      <td>MERCADO CEMENTO DEPTO CANAL</td>\n",
       "      <td>Antioquia</td>\n",
       "      <td>COMERCIALIZACION</td>\n",
       "    </tr>\n",
       "    <tr>\n",
       "      <th>341</th>\n",
       "      <td>2011-05-01 00:00:00.0000000</td>\n",
       "      <td>18152.0</td>\n",
       "      <td>MERCADO CEMENTO DEPTO CANAL</td>\n",
       "      <td>Antioquia</td>\n",
       "      <td>COMERCIALIZACION</td>\n",
       "    </tr>\n",
       "    <tr>\n",
       "      <th>511</th>\n",
       "      <td>2018-08-01 00:00:00.0000000</td>\n",
       "      <td>16017.0</td>\n",
       "      <td>MERCADO CEMENTO DEPTO CANAL</td>\n",
       "      <td>Antioquia</td>\n",
       "      <td>COMERCIALIZACION</td>\n",
       "    </tr>\n",
       "    <tr>\n",
       "      <th>885</th>\n",
       "      <td>2013-01-01 00:00:00.0000000</td>\n",
       "      <td>34194.0</td>\n",
       "      <td>MERCADO CEMENTO DEPTO CANAL</td>\n",
       "      <td>Antioquia</td>\n",
       "      <td>COMERCIALIZACION</td>\n",
       "    </tr>\n",
       "    <tr>\n",
       "      <th>1191</th>\n",
       "      <td>2015-04-01 00:00:00.0000000</td>\n",
       "      <td>17718.0</td>\n",
       "      <td>MERCADO CEMENTO DEPTO CANAL</td>\n",
       "      <td>Antioquia</td>\n",
       "      <td>COMERCIALIZACION</td>\n",
       "    </tr>\n",
       "  </tbody>\n",
       "</table>\n",
       "</div>"
      ],
      "text/plain": [
       "                             DATE    VALUE                        GRUPO  \\\n",
       "69    2016-02-01 00:00:00.0000000  82342.0  MERCADO CEMENTO DEPTO CANAL   \n",
       "341   2011-05-01 00:00:00.0000000  18152.0  MERCADO CEMENTO DEPTO CANAL   \n",
       "511   2018-08-01 00:00:00.0000000  16017.0  MERCADO CEMENTO DEPTO CANAL   \n",
       "885   2013-01-01 00:00:00.0000000  34194.0  MERCADO CEMENTO DEPTO CANAL   \n",
       "1191  2015-04-01 00:00:00.0000000  17718.0  MERCADO CEMENTO DEPTO CANAL   \n",
       "\n",
       "     REGION_NAME             DET_1  \n",
       "69     Antioquia  COMERCIALIZACION  \n",
       "341    Antioquia  COMERCIALIZACION  \n",
       "511    Antioquia  COMERCIALIZACION  \n",
       "885    Antioquia  COMERCIALIZACION  \n",
       "1191   Antioquia  COMERCIALIZACION  "
      ]
     },
     "execution_count": 22,
     "metadata": {},
     "output_type": "execute_result"
    }
   ],
   "source": [
    "df3=df2.copy()\n",
    "\n",
    "\n",
    "df3_seg=df3['DET_1']=='COMERCIALIZACION'\n",
    "\n",
    "df3_seg2 = df3[df3_seg]\n",
    "\n",
    "\n",
    "#df3_seg2.shape\n",
    "df3_seg2.head(5)"
   ]
  },
  {
   "cell_type": "code",
   "execution_count": 23,
   "id": "agricultural-stuart",
   "metadata": {},
   "outputs": [
    {
     "data": {
      "text/html": [
       "<div>\n",
       "<style scoped>\n",
       "    .dataframe tbody tr th:only-of-type {\n",
       "        vertical-align: middle;\n",
       "    }\n",
       "\n",
       "    .dataframe tbody tr th {\n",
       "        vertical-align: top;\n",
       "    }\n",
       "\n",
       "    .dataframe thead th {\n",
       "        text-align: right;\n",
       "    }\n",
       "</style>\n",
       "<table border=\"1\" class=\"dataframe\">\n",
       "  <thead>\n",
       "    <tr style=\"text-align: right;\">\n",
       "      <th></th>\n",
       "      <th>DATE</th>\n",
       "      <th>VALUE</th>\n",
       "    </tr>\n",
       "  </thead>\n",
       "  <tbody>\n",
       "    <tr>\n",
       "      <th>0</th>\n",
       "      <td>2010-01-01 00:00:00.0000000</td>\n",
       "      <td>414466.0</td>\n",
       "    </tr>\n",
       "    <tr>\n",
       "      <th>1</th>\n",
       "      <td>2010-02-01 00:00:00.0000000</td>\n",
       "      <td>436450.0</td>\n",
       "    </tr>\n",
       "    <tr>\n",
       "      <th>2</th>\n",
       "      <td>2010-03-01 00:00:00.0000000</td>\n",
       "      <td>461843.0</td>\n",
       "    </tr>\n",
       "    <tr>\n",
       "      <th>3</th>\n",
       "      <td>2010-04-01 00:00:00.0000000</td>\n",
       "      <td>418504.0</td>\n",
       "    </tr>\n",
       "    <tr>\n",
       "      <th>4</th>\n",
       "      <td>2010-05-01 00:00:00.0000000</td>\n",
       "      <td>468039.0</td>\n",
       "    </tr>\n",
       "  </tbody>\n",
       "</table>\n",
       "</div>"
      ],
      "text/plain": [
       "                          DATE     VALUE\n",
       "0  2010-01-01 00:00:00.0000000  414466.0\n",
       "1  2010-02-01 00:00:00.0000000  436450.0\n",
       "2  2010-03-01 00:00:00.0000000  461843.0\n",
       "3  2010-04-01 00:00:00.0000000  418504.0\n",
       "4  2010-05-01 00:00:00.0000000  468039.0"
      ]
     },
     "execution_count": 23,
     "metadata": {},
     "output_type": "execute_result"
    }
   ],
   "source": [
    "df3_seg_Fecha=df3_seg2.groupby('DATE').agg({ 'VALUE': 'sum'\n",
    "   \n",
    "                              })\n",
    "\n",
    "df3_seg_Fecha=df3_seg_Fecha.reset_index()\n",
    "\n",
    "df3_seg_Fecha.head(5)"
   ]
  },
  {
   "cell_type": "code",
   "execution_count": 24,
   "id": "sweet-festival",
   "metadata": {},
   "outputs": [
    {
     "data": {
      "text/html": [
       "<div>                            <div id=\"890c8a7a-cfe8-438c-b308-efcb9a8742f6\" class=\"plotly-graph-div\" style=\"height:525px; width:100%;\"></div>            <script type=\"text/javascript\">                require([\"plotly\"], function(Plotly) {                    window.PLOTLYENV=window.PLOTLYENV || {};                                    if (document.getElementById(\"890c8a7a-cfe8-438c-b308-efcb9a8742f6\")) {                    Plotly.newPlot(                        \"890c8a7a-cfe8-438c-b308-efcb9a8742f6\",                        [{\"hovertemplate\": \"Fecha=%{x}<br>Valor=%{y}<extra></extra>\", \"legendgroup\": \"\", \"line\": {\"color\": \"#636efa\", \"dash\": \"solid\"}, \"mode\": \"lines\", \"name\": \"\", \"orientation\": \"v\", \"showlegend\": false, \"type\": \"scatter\", \"x\": [\"2010-01-01 00:00:00.0000000\", \"2010-02-01 00:00:00.0000000\", \"2010-03-01 00:00:00.0000000\", \"2010-04-01 00:00:00.0000000\", \"2010-05-01 00:00:00.0000000\", \"2010-06-01 00:00:00.0000000\", \"2010-07-01 00:00:00.0000000\", \"2010-08-01 00:00:00.0000000\", \"2010-09-01 00:00:00.0000000\", \"2010-10-01 00:00:00.0000000\", \"2010-11-01 00:00:00.0000000\", \"2010-12-01 00:00:00.0000000\", \"2011-01-01 00:00:00.0000000\", \"2011-02-01 00:00:00.0000000\", \"2011-03-01 00:00:00.0000000\", \"2011-04-01 00:00:00.0000000\", \"2011-05-01 00:00:00.0000000\", \"2011-06-01 00:00:00.0000000\", \"2011-07-01 00:00:00.0000000\", \"2011-08-01 00:00:00.0000000\", \"2011-09-01 00:00:00.0000000\", \"2011-10-01 00:00:00.0000000\", \"2011-11-01 00:00:00.0000000\", \"2011-12-01 00:00:00.0000000\", \"2012-01-01 00:00:00.0000000\", \"2012-02-01 00:00:00.0000000\", \"2012-03-01 00:00:00.0000000\", \"2012-04-01 00:00:00.0000000\", \"2012-05-01 00:00:00.0000000\", \"2012-06-01 00:00:00.0000000\", \"2012-07-01 00:00:00.0000000\", \"2012-08-01 00:00:00.0000000\", \"2012-09-01 00:00:00.0000000\", \"2012-10-01 00:00:00.0000000\", \"2012-11-01 00:00:00.0000000\", \"2012-12-01 00:00:00.0000000\", \"2013-01-01 00:00:00.0000000\", \"2013-02-01 00:00:00.0000000\", \"2013-03-01 00:00:00.0000000\", \"2013-04-01 00:00:00.0000000\", \"2013-05-01 00:00:00.0000000\", \"2013-06-01 00:00:00.0000000\", \"2013-07-01 00:00:00.0000000\", \"2013-08-01 00:00:00.0000000\", \"2013-09-01 00:00:00.0000000\", \"2013-10-01 00:00:00.0000000\", \"2013-11-01 00:00:00.0000000\", \"2013-12-01 00:00:00.0000000\", \"2014-01-01 00:00:00.0000000\", \"2014-02-01 00:00:00.0000000\", \"2014-03-01 00:00:00.0000000\", \"2014-04-01 00:00:00.0000000\", \"2014-05-01 00:00:00.0000000\", \"2014-06-01 00:00:00.0000000\", \"2014-07-01 00:00:00.0000000\", \"2014-08-01 00:00:00.0000000\", \"2014-09-01 00:00:00.0000000\", \"2014-10-01 00:00:00.0000000\", \"2014-11-01 00:00:00.0000000\", \"2014-12-01 00:00:00.0000000\", \"2015-01-01 00:00:00.0000000\", \"2015-02-01 00:00:00.0000000\", \"2015-03-01 00:00:00.0000000\", \"2015-04-01 00:00:00.0000000\", \"2015-05-01 00:00:00.0000000\", \"2015-06-01 00:00:00.0000000\", \"2015-07-01 00:00:00.0000000\", \"2015-08-01 00:00:00.0000000\", \"2015-09-01 00:00:00.0000000\", \"2015-10-01 00:00:00.0000000\", \"2015-11-01 00:00:00.0000000\", \"2015-12-01 00:00:00.0000000\", \"2016-01-01 00:00:00.0000000\", \"2016-02-01 00:00:00.0000000\", \"2016-03-01 00:00:00.0000000\", \"2016-04-01 00:00:00.0000000\", \"2016-05-01 00:00:00.0000000\", \"2016-06-01 00:00:00.0000000\", \"2016-07-01 00:00:00.0000000\", \"2016-08-01 00:00:00.0000000\", \"2016-09-01 00:00:00.0000000\", \"2016-10-01 00:00:00.0000000\", \"2016-11-01 00:00:00.0000000\", \"2016-12-01 00:00:00.0000000\", \"2017-01-01 00:00:00.0000000\", \"2017-02-01 00:00:00.0000000\", \"2017-03-01 00:00:00.0000000\", \"2017-04-01 00:00:00.0000000\", \"2017-05-01 00:00:00.0000000\", \"2017-06-01 00:00:00.0000000\", \"2017-07-01 00:00:00.0000000\", \"2017-08-01 00:00:00.0000000\", \"2017-09-01 00:00:00.0000000\", \"2017-10-01 00:00:00.0000000\", \"2017-11-01 00:00:00.0000000\", \"2017-12-01 00:00:00.0000000\", \"2018-01-01 00:00:00.0000000\", \"2018-02-01 00:00:00.0000000\", \"2018-03-01 00:00:00.0000000\", \"2018-04-01 00:00:00.0000000\", \"2018-05-01 00:00:00.0000000\", \"2018-06-01 00:00:00.0000000\", \"2018-07-01 00:00:00.0000000\", \"2018-08-01 00:00:00.0000000\", \"2018-09-01 00:00:00.0000000\", \"2018-10-01 00:00:00.0000000\", \"2018-11-01 00:00:00.0000000\", \"2018-12-01 00:00:00.0000000\", \"2019-01-01 00:00:00.0000000\", \"2019-02-01 00:00:00.0000000\", \"2019-03-01 00:00:00.0000000\", \"2019-04-01 00:00:00.0000000\", \"2019-05-01 00:00:00.0000000\", \"2019-06-01 00:00:00.0000000\"], \"xaxis\": \"x\", \"y\": [414466.0, 436450.0, 461843.0, 418504.0, 468039.0, 424885.0, 459108.0, 449050.0, 468502.0, 485260.0, 504445.0, 501093.0, 451905.0, 436067.0, 567055.0, 472861.0, 520225.0, 471013.0, 499626.0, 530458.0, 531569.0, 523666.0, 521908.0, 540529.0, 469989.0, 454238.0, 519123.0, 433414.0, 479818.0, 468527.0, 462070.0, 483661.0, 445530.0, 475854.0, 491598.0, 478017.0, 406731.0, 428199.0, 417651.0, 473851.0, 450962.0, 438874.0, 489966.0, 430866.0, 481250.0, 512388.0, 491047.0, 478199.0, 387137.0, 448835.0, 552876.0, 491503.0, 523259.0, 464351.0, 542911.0, 538268.0, 580602.0, 581170.0, 568111.0, 554475.0, 504275.0, 496763.0, 562660.0, 512183.0, 527970.0, 499051.0, 569061.0, 553764.0, 542828.0, 564400.0, 514794.0, 592886.0, 490178.0, 513076.0, 517675.0, 542948.0, 514415.0, 509549.0, 490499.0, 583458.0, 520532.0, 514949.0, 544652.0, 572779.0, 502075.0, 530818.0, 568437.0, 477853.0, 521955.0, 510869.0, 562567.0, 540041.0, 534346.0, 542522.0, 543640.0, 520985.0, 501269.0, 499911.0, 522399.0, 563838.0, 504156.0, 491542.0, 524893.0, 561613.0, 536795.0, 571662.0, 567356.0, 532625.0, 507440.0, 505093.0, 545149.0, 542058.0, 540930.0, 510149.0], \"yaxis\": \"y\"}],                        {\"legend\": {\"tracegroupgap\": 0}, \"template\": {\"data\": {\"bar\": [{\"error_x\": {\"color\": \"#2a3f5f\"}, \"error_y\": {\"color\": \"#2a3f5f\"}, \"marker\": {\"line\": {\"color\": \"#E5ECF6\", \"width\": 0.5}}, \"type\": \"bar\"}], \"barpolar\": [{\"marker\": {\"line\": {\"color\": \"#E5ECF6\", \"width\": 0.5}}, \"type\": \"barpolar\"}], \"carpet\": [{\"aaxis\": {\"endlinecolor\": \"#2a3f5f\", \"gridcolor\": \"white\", \"linecolor\": \"white\", \"minorgridcolor\": \"white\", \"startlinecolor\": \"#2a3f5f\"}, \"baxis\": {\"endlinecolor\": \"#2a3f5f\", \"gridcolor\": \"white\", \"linecolor\": \"white\", \"minorgridcolor\": \"white\", \"startlinecolor\": \"#2a3f5f\"}, \"type\": \"carpet\"}], \"choropleth\": [{\"colorbar\": {\"outlinewidth\": 0, \"ticks\": \"\"}, \"type\": \"choropleth\"}], \"contour\": [{\"colorbar\": {\"outlinewidth\": 0, \"ticks\": \"\"}, \"colorscale\": [[0.0, \"#0d0887\"], [0.1111111111111111, \"#46039f\"], [0.2222222222222222, \"#7201a8\"], [0.3333333333333333, \"#9c179e\"], [0.4444444444444444, \"#bd3786\"], [0.5555555555555556, \"#d8576b\"], [0.6666666666666666, \"#ed7953\"], [0.7777777777777778, \"#fb9f3a\"], [0.8888888888888888, \"#fdca26\"], [1.0, \"#f0f921\"]], \"type\": \"contour\"}], \"contourcarpet\": [{\"colorbar\": {\"outlinewidth\": 0, \"ticks\": \"\"}, \"type\": \"contourcarpet\"}], \"heatmap\": [{\"colorbar\": {\"outlinewidth\": 0, \"ticks\": \"\"}, \"colorscale\": [[0.0, \"#0d0887\"], [0.1111111111111111, \"#46039f\"], [0.2222222222222222, \"#7201a8\"], [0.3333333333333333, \"#9c179e\"], [0.4444444444444444, \"#bd3786\"], [0.5555555555555556, \"#d8576b\"], [0.6666666666666666, \"#ed7953\"], [0.7777777777777778, \"#fb9f3a\"], [0.8888888888888888, \"#fdca26\"], [1.0, \"#f0f921\"]], \"type\": \"heatmap\"}], \"heatmapgl\": [{\"colorbar\": {\"outlinewidth\": 0, \"ticks\": \"\"}, \"colorscale\": [[0.0, \"#0d0887\"], [0.1111111111111111, \"#46039f\"], [0.2222222222222222, \"#7201a8\"], [0.3333333333333333, \"#9c179e\"], [0.4444444444444444, \"#bd3786\"], [0.5555555555555556, \"#d8576b\"], [0.6666666666666666, \"#ed7953\"], [0.7777777777777778, \"#fb9f3a\"], [0.8888888888888888, \"#fdca26\"], [1.0, \"#f0f921\"]], \"type\": \"heatmapgl\"}], \"histogram\": [{\"marker\": {\"colorbar\": {\"outlinewidth\": 0, \"ticks\": \"\"}}, \"type\": \"histogram\"}], \"histogram2d\": [{\"colorbar\": {\"outlinewidth\": 0, \"ticks\": \"\"}, \"colorscale\": [[0.0, \"#0d0887\"], [0.1111111111111111, \"#46039f\"], [0.2222222222222222, \"#7201a8\"], [0.3333333333333333, \"#9c179e\"], [0.4444444444444444, \"#bd3786\"], [0.5555555555555556, \"#d8576b\"], [0.6666666666666666, \"#ed7953\"], [0.7777777777777778, \"#fb9f3a\"], [0.8888888888888888, \"#fdca26\"], [1.0, \"#f0f921\"]], \"type\": \"histogram2d\"}], \"histogram2dcontour\": [{\"colorbar\": {\"outlinewidth\": 0, \"ticks\": \"\"}, \"colorscale\": [[0.0, \"#0d0887\"], [0.1111111111111111, \"#46039f\"], [0.2222222222222222, \"#7201a8\"], [0.3333333333333333, \"#9c179e\"], [0.4444444444444444, \"#bd3786\"], [0.5555555555555556, \"#d8576b\"], [0.6666666666666666, \"#ed7953\"], [0.7777777777777778, \"#fb9f3a\"], [0.8888888888888888, \"#fdca26\"], [1.0, \"#f0f921\"]], \"type\": \"histogram2dcontour\"}], \"mesh3d\": [{\"colorbar\": {\"outlinewidth\": 0, \"ticks\": \"\"}, \"type\": \"mesh3d\"}], \"parcoords\": [{\"line\": {\"colorbar\": {\"outlinewidth\": 0, \"ticks\": \"\"}}, \"type\": \"parcoords\"}], \"pie\": [{\"automargin\": true, \"type\": \"pie\"}], \"scatter\": [{\"marker\": {\"colorbar\": {\"outlinewidth\": 0, \"ticks\": \"\"}}, \"type\": \"scatter\"}], \"scatter3d\": [{\"line\": {\"colorbar\": {\"outlinewidth\": 0, \"ticks\": \"\"}}, \"marker\": {\"colorbar\": {\"outlinewidth\": 0, \"ticks\": \"\"}}, \"type\": \"scatter3d\"}], \"scattercarpet\": [{\"marker\": {\"colorbar\": {\"outlinewidth\": 0, \"ticks\": \"\"}}, \"type\": \"scattercarpet\"}], \"scattergeo\": [{\"marker\": {\"colorbar\": {\"outlinewidth\": 0, \"ticks\": \"\"}}, \"type\": \"scattergeo\"}], \"scattergl\": [{\"marker\": {\"colorbar\": {\"outlinewidth\": 0, \"ticks\": \"\"}}, \"type\": \"scattergl\"}], \"scattermapbox\": [{\"marker\": {\"colorbar\": {\"outlinewidth\": 0, \"ticks\": \"\"}}, \"type\": \"scattermapbox\"}], \"scatterpolar\": [{\"marker\": {\"colorbar\": {\"outlinewidth\": 0, \"ticks\": \"\"}}, \"type\": \"scatterpolar\"}], \"scatterpolargl\": [{\"marker\": {\"colorbar\": {\"outlinewidth\": 0, \"ticks\": \"\"}}, \"type\": \"scatterpolargl\"}], \"scatterternary\": [{\"marker\": {\"colorbar\": {\"outlinewidth\": 0, \"ticks\": \"\"}}, \"type\": \"scatterternary\"}], \"surface\": [{\"colorbar\": {\"outlinewidth\": 0, \"ticks\": \"\"}, \"colorscale\": [[0.0, \"#0d0887\"], [0.1111111111111111, \"#46039f\"], [0.2222222222222222, \"#7201a8\"], [0.3333333333333333, \"#9c179e\"], [0.4444444444444444, \"#bd3786\"], [0.5555555555555556, \"#d8576b\"], [0.6666666666666666, \"#ed7953\"], [0.7777777777777778, \"#fb9f3a\"], [0.8888888888888888, \"#fdca26\"], [1.0, \"#f0f921\"]], \"type\": \"surface\"}], \"table\": [{\"cells\": {\"fill\": {\"color\": \"#EBF0F8\"}, \"line\": {\"color\": \"white\"}}, \"header\": {\"fill\": {\"color\": \"#C8D4E3\"}, \"line\": {\"color\": \"white\"}}, \"type\": \"table\"}]}, \"layout\": {\"annotationdefaults\": {\"arrowcolor\": \"#2a3f5f\", \"arrowhead\": 0, \"arrowwidth\": 1}, \"autotypenumbers\": \"strict\", \"coloraxis\": {\"colorbar\": {\"outlinewidth\": 0, \"ticks\": \"\"}}, \"colorscale\": {\"diverging\": [[0, \"#8e0152\"], [0.1, \"#c51b7d\"], [0.2, \"#de77ae\"], [0.3, \"#f1b6da\"], [0.4, \"#fde0ef\"], [0.5, \"#f7f7f7\"], [0.6, \"#e6f5d0\"], [0.7, \"#b8e186\"], [0.8, \"#7fbc41\"], [0.9, \"#4d9221\"], [1, \"#276419\"]], \"sequential\": [[0.0, \"#0d0887\"], [0.1111111111111111, \"#46039f\"], [0.2222222222222222, \"#7201a8\"], [0.3333333333333333, \"#9c179e\"], [0.4444444444444444, \"#bd3786\"], [0.5555555555555556, \"#d8576b\"], [0.6666666666666666, \"#ed7953\"], [0.7777777777777778, \"#fb9f3a\"], [0.8888888888888888, \"#fdca26\"], [1.0, \"#f0f921\"]], \"sequentialminus\": [[0.0, \"#0d0887\"], [0.1111111111111111, \"#46039f\"], [0.2222222222222222, \"#7201a8\"], [0.3333333333333333, \"#9c179e\"], [0.4444444444444444, \"#bd3786\"], [0.5555555555555556, \"#d8576b\"], [0.6666666666666666, \"#ed7953\"], [0.7777777777777778, \"#fb9f3a\"], [0.8888888888888888, \"#fdca26\"], [1.0, \"#f0f921\"]]}, \"colorway\": [\"#636efa\", \"#EF553B\", \"#00cc96\", \"#ab63fa\", \"#FFA15A\", \"#19d3f3\", \"#FF6692\", \"#B6E880\", \"#FF97FF\", \"#FECB52\"], \"font\": {\"color\": \"#2a3f5f\"}, \"geo\": {\"bgcolor\": \"white\", \"lakecolor\": \"white\", \"landcolor\": \"#E5ECF6\", \"showlakes\": true, \"showland\": true, \"subunitcolor\": \"white\"}, \"hoverlabel\": {\"align\": \"left\"}, \"hovermode\": \"closest\", \"mapbox\": {\"style\": \"light\"}, \"paper_bgcolor\": \"white\", \"plot_bgcolor\": \"#E5ECF6\", \"polar\": {\"angularaxis\": {\"gridcolor\": \"white\", \"linecolor\": \"white\", \"ticks\": \"\"}, \"bgcolor\": \"#E5ECF6\", \"radialaxis\": {\"gridcolor\": \"white\", \"linecolor\": \"white\", \"ticks\": \"\"}}, \"scene\": {\"xaxis\": {\"backgroundcolor\": \"#E5ECF6\", \"gridcolor\": \"white\", \"gridwidth\": 2, \"linecolor\": \"white\", \"showbackground\": true, \"ticks\": \"\", \"zerolinecolor\": \"white\"}, \"yaxis\": {\"backgroundcolor\": \"#E5ECF6\", \"gridcolor\": \"white\", \"gridwidth\": 2, \"linecolor\": \"white\", \"showbackground\": true, \"ticks\": \"\", \"zerolinecolor\": \"white\"}, \"zaxis\": {\"backgroundcolor\": \"#E5ECF6\", \"gridcolor\": \"white\", \"gridwidth\": 2, \"linecolor\": \"white\", \"showbackground\": true, \"ticks\": \"\", \"zerolinecolor\": \"white\"}}, \"shapedefaults\": {\"line\": {\"color\": \"#2a3f5f\"}}, \"ternary\": {\"aaxis\": {\"gridcolor\": \"white\", \"linecolor\": \"white\", \"ticks\": \"\"}, \"baxis\": {\"gridcolor\": \"white\", \"linecolor\": \"white\", \"ticks\": \"\"}, \"bgcolor\": \"#E5ECF6\", \"caxis\": {\"gridcolor\": \"white\", \"linecolor\": \"white\", \"ticks\": \"\"}}, \"title\": {\"x\": 0.05}, \"xaxis\": {\"automargin\": true, \"gridcolor\": \"white\", \"linecolor\": \"white\", \"ticks\": \"\", \"title\": {\"standoff\": 15}, \"zerolinecolor\": \"white\", \"zerolinewidth\": 2}, \"yaxis\": {\"automargin\": true, \"gridcolor\": \"white\", \"linecolor\": \"white\", \"ticks\": \"\", \"title\": {\"standoff\": 15}, \"zerolinecolor\": \"white\", \"zerolinewidth\": 2}}}, \"title\": {\"text\": \"Comportamiento del comercio por segmento en Antioquia con indicador espec\\u00edfico\"}, \"xaxis\": {\"anchor\": \"y\", \"domain\": [0.0, 1.0], \"rangeselector\": {\"buttons\": [{\"count\": 1, \"label\": \"D\\u00edas\", \"step\": \"month\", \"stepmode\": \"backward\"}, {\"count\": 6, \"label\": \"Seis meses\", \"step\": \"month\", \"stepmode\": \"backward\"}, {\"count\": 1, \"label\": \"A\\u00f1o\", \"step\": \"year\", \"stepmode\": \"backward\"}, {\"step\": \"all\"}]}, \"rangeslider\": {\"visible\": true}, \"title\": {\"text\": \"Fecha\"}}, \"yaxis\": {\"anchor\": \"x\", \"domain\": [0.0, 1.0], \"title\": {\"text\": \"Valor\"}}},                        {\"responsive\": true}                    ).then(function(){\n",
       "                            \n",
       "var gd = document.getElementById('890c8a7a-cfe8-438c-b308-efcb9a8742f6');\n",
       "var x = new MutationObserver(function (mutations, observer) {{\n",
       "        var display = window.getComputedStyle(gd).display;\n",
       "        if (!display || display === 'none') {{\n",
       "            console.log([gd, 'removed!']);\n",
       "            Plotly.purge(gd);\n",
       "            observer.disconnect();\n",
       "        }}\n",
       "}});\n",
       "\n",
       "// Listen for the removal of the full notebook cells\n",
       "var notebookContainer = gd.closest('#notebook-container');\n",
       "if (notebookContainer) {{\n",
       "    x.observe(notebookContainer, {childList: true});\n",
       "}}\n",
       "\n",
       "// Listen for the clearing of the current output cell\n",
       "var outputEl = gd.closest('.output');\n",
       "if (outputEl) {{\n",
       "    x.observe(outputEl, {childList: true});\n",
       "}}\n",
       "\n",
       "                        })                };                });            </script>        </div>"
      ]
     },
     "metadata": {},
     "output_type": "display_data"
    }
   ],
   "source": [
    "# Serie de tiempo para por segmento en Antioquia\n",
    "\n",
    "fig = px.line(df3_seg_Fecha, x='DATE', y='VALUE', \n",
    "              title='Comportamiento del comercio por segmento en Antioquia con indicador específico',\n",
    "             labels={\n",
    "                     \"DATE\": \"Fecha\",\n",
    "                     \"VALUE\": \"Valor\"\n",
    "                 })\n",
    "\n",
    "fig.update_xaxes(rangeslider_visible=True,   rangeselector=dict(\n",
    "        buttons=list([\n",
    "            dict(count=1, label=\"Días\", step=\"month\", stepmode=\"backward\"),\n",
    "            dict(count=6, label=\"Seis meses\", step=\"month\", stepmode=\"backward\"),\n",
    "            dict(count=1, label=\"Año\", step=\"year\", stepmode=\"backward\"),\n",
    "            dict(step=\"all\")\n",
    "        ])))\n",
    "fig.show()"
   ]
  },
  {
   "cell_type": "markdown",
   "id": "according-truth",
   "metadata": {},
   "source": [
    "## Regresión lineal"
   ]
  },
  {
   "cell_type": "code",
   "execution_count": 25,
   "id": "perfect-doctrine",
   "metadata": {},
   "outputs": [
    {
     "data": {
      "text/html": [
       "<div>\n",
       "<style scoped>\n",
       "    .dataframe tbody tr th:only-of-type {\n",
       "        vertical-align: middle;\n",
       "    }\n",
       "\n",
       "    .dataframe tbody tr th {\n",
       "        vertical-align: top;\n",
       "    }\n",
       "\n",
       "    .dataframe thead th {\n",
       "        text-align: right;\n",
       "    }\n",
       "</style>\n",
       "<table border=\"1\" class=\"dataframe\">\n",
       "  <thead>\n",
       "    <tr style=\"text-align: right;\">\n",
       "      <th></th>\n",
       "      <th>DATE</th>\n",
       "      <th>VALUE</th>\n",
       "      <th>GRUPO</th>\n",
       "      <th>REGION_NAME</th>\n",
       "      <th>DET_1</th>\n",
       "    </tr>\n",
       "  </thead>\n",
       "  <tbody>\n",
       "    <tr>\n",
       "      <th>1</th>\n",
       "      <td>736085</td>\n",
       "      <td>363.0</td>\n",
       "      <td>MERCADO CEMENTO DEPTO CANAL</td>\n",
       "      <td>Antioquia</td>\n",
       "      <td>OTROS</td>\n",
       "    </tr>\n",
       "    <tr>\n",
       "      <th>69</th>\n",
       "      <td>735995</td>\n",
       "      <td>82342.0</td>\n",
       "      <td>MERCADO CEMENTO DEPTO CANAL</td>\n",
       "      <td>Antioquia</td>\n",
       "      <td>COMERCIALIZACION</td>\n",
       "    </tr>\n",
       "    <tr>\n",
       "      <th>103</th>\n",
       "      <td>735020</td>\n",
       "      <td>14315.0</td>\n",
       "      <td>MERCADO CEMENTO DEPTO CANAL</td>\n",
       "      <td>Antioquia</td>\n",
       "      <td>CONSTRUCTORES Y CONTRATISTAS</td>\n",
       "    </tr>\n",
       "    <tr>\n",
       "      <th>137</th>\n",
       "      <td>734046</td>\n",
       "      <td>7425.0</td>\n",
       "      <td>MERCADO CEMENTO DEPTO CANAL</td>\n",
       "      <td>Antioquia</td>\n",
       "      <td>OTROS</td>\n",
       "    </tr>\n",
       "    <tr>\n",
       "      <th>171</th>\n",
       "      <td>736238</td>\n",
       "      <td>4769.0</td>\n",
       "      <td>MERCADO CEMENTO DEPTO CANAL</td>\n",
       "      <td>Antioquia</td>\n",
       "      <td>CONSTRUCTORES Y CONTRATISTAS</td>\n",
       "    </tr>\n",
       "  </tbody>\n",
       "</table>\n",
       "</div>"
      ],
      "text/plain": [
       "       DATE    VALUE                        GRUPO REGION_NAME  \\\n",
       "1    736085    363.0  MERCADO CEMENTO DEPTO CANAL   Antioquia   \n",
       "69   735995  82342.0  MERCADO CEMENTO DEPTO CANAL   Antioquia   \n",
       "103  735020  14315.0  MERCADO CEMENTO DEPTO CANAL   Antioquia   \n",
       "137  734046   7425.0  MERCADO CEMENTO DEPTO CANAL   Antioquia   \n",
       "171  736238   4769.0  MERCADO CEMENTO DEPTO CANAL   Antioquia   \n",
       "\n",
       "                            DET_1  \n",
       "1                           OTROS  \n",
       "69               COMERCIALIZACION  \n",
       "103  CONSTRUCTORES Y CONTRATISTAS  \n",
       "137                         OTROS  \n",
       "171  CONSTRUCTORES Y CONTRATISTAS  "
      ]
     },
     "execution_count": 25,
     "metadata": {},
     "output_type": "execute_result"
    }
   ],
   "source": [
    "df_LR=df2.copy()\n",
    "df_LR['DATE'] = pd.to_datetime(df_LR['DATE'])\n",
    "df_LR['DATE']=df_LR['DATE'].map(dt.datetime.toordinal)\n",
    "\n",
    "df_LR.head(5)"
   ]
  },
  {
   "cell_type": "code",
   "execution_count": 26,
   "id": "searching-pollution",
   "metadata": {},
   "outputs": [
    {
     "data": {
      "image/png": "[encoded data removed]",
      "text/plain": [
       "<Figure size 720x720 with 1 Axes>"
      ]
     },
     "metadata": {
      "needs_background": "light"
     },
     "output_type": "display_data"
    }
   ],
   "source": [
    "fig=plt.figure(figsize=(10,10))\n",
    "plt.scatter(df_LR['DATE'],df_LR['VALUE'])\n",
    "#plt.plot(df_LR['DATE'],df_LR['VALUE'])\n",
    "plt.xlabel('Fecha')\n",
    "plt.ylabel('Valor')\n",
    "plt.grid()"
   ]
  },
  {
   "cell_type": "markdown",
   "id": "matched-tanzania",
   "metadata": {},
   "source": [
    "Los puntos estan bastante dispersos y concentrados en los valores entre cero y 200.000"
   ]
  },
  {
   "cell_type": "code",
   "execution_count": 27,
   "id": "reverse-laundry",
   "metadata": {},
   "outputs": [],
   "source": [
    "nVAL = df_LR['VALUE'].values.reshape(-1,1)\n",
    "nDATE = df_LR['DATE'].values.reshape(-1,1)"
   ]
  },
  {
   "cell_type": "code",
   "execution_count": 28,
   "id": "silent-brief",
   "metadata": {},
   "outputs": [
    {
     "data": {
      "text/plain": [
       "array([[-699336.33463499],\n",
       "       [-620097.56517648],\n",
       "       [-685850.69426996],\n",
       "       ...,\n",
       "       [-686120.3684143 ],\n",
       "       [-696953.72973965],\n",
       "       [-694244.42283432]])"
      ]
     },
     "execution_count": 28,
     "metadata": {},
     "output_type": "execute_result"
    }
   ],
   "source": [
    "linear_regressor = LinearRegression()\n",
    "linear_regressor.fit(nDATE, nVAL)\n",
    "val_pred = linear_regressor.predict(nVAL)\n",
    "val_pred"
   ]
  },
  {
   "cell_type": "code",
   "execution_count": 29,
   "id": "cheap-teens",
   "metadata": {},
   "outputs": [
    {
     "name": "stdout",
     "output_type": "stream",
     "text": [
      "$Valor = 0.9666*Fecha -699687.2010$\n"
     ]
    }
   ],
   "source": [
    "# Ecuación regresión lineal y=mx+b\n",
    "m = linear_regressor.coef_[0][0]\n",
    "b = linear_regressor.intercept_[0]\n",
    "label = r'$Valor = %0.4f*Fecha %+0.4f$'%(m,b)\n",
    "print(label)"
   ]
  },
  {
   "cell_type": "code",
   "execution_count": 30,
   "id": "compressed-trinity",
   "metadata": {},
   "outputs": [
    {
     "data": {
      "image/png": "[encoded data removed]",
      "text/plain": [
       "<Figure size 720x720 with 1 Axes>"
      ]
     },
     "metadata": {
      "needs_background": "light"
     },
     "output_type": "display_data"
    }
   ],
   "source": [
    "fig = plt.figure(figsize=(10,10))\n",
    "plt.scatter(df_LR['DATE'],df_LR['VALUE'])\n",
    "plt.plot(df_LR['DATE'],df_LR['VALUE'], label='Valor')\n",
    "plt.plot(nVAL, val_pred, color='red', label=label)\n",
    "plt.xlabel('Fecha')\n",
    "plt.ylabel('Valor')\n",
    "plt.legend()\n",
    "plt.grid()"
   ]
  },
  {
   "cell_type": "code",
   "execution_count": 31,
   "id": "classical-stupid",
   "metadata": {},
   "outputs": [
    {
     "data": {
      "text/html": [
       "<div>\n",
       "<style scoped>\n",
       "    .dataframe tbody tr th:only-of-type {\n",
       "        vertical-align: middle;\n",
       "    }\n",
       "\n",
       "    .dataframe tbody tr th {\n",
       "        vertical-align: top;\n",
       "    }\n",
       "\n",
       "    .dataframe thead th {\n",
       "        text-align: right;\n",
       "    }\n",
       "</style>\n",
       "<table border=\"1\" class=\"dataframe\">\n",
       "  <thead>\n",
       "    <tr style=\"text-align: right;\">\n",
       "      <th></th>\n",
       "      <th>Mes</th>\n",
       "    </tr>\n",
       "  </thead>\n",
       "  <tbody>\n",
       "    <tr>\n",
       "      <th>26</th>\n",
       "      <td>737420</td>\n",
       "    </tr>\n",
       "    <tr>\n",
       "      <th>27</th>\n",
       "      <td>737421</td>\n",
       "    </tr>\n",
       "    <tr>\n",
       "      <th>28</th>\n",
       "      <td>737422</td>\n",
       "    </tr>\n",
       "    <tr>\n",
       "      <th>29</th>\n",
       "      <td>737423</td>\n",
       "    </tr>\n",
       "    <tr>\n",
       "      <th>30</th>\n",
       "      <td>737424</td>\n",
       "    </tr>\n",
       "  </tbody>\n",
       "</table>\n",
       "</div>"
      ],
      "text/plain": [
       "       Mes\n",
       "26  737420\n",
       "27  737421\n",
       "28  737422\n",
       "29  737423\n",
       "30  737424"
      ]
     },
     "execution_count": 31,
     "metadata": {},
     "output_type": "execute_result"
    }
   ],
   "source": [
    "# Representación para diciembre y realizar la predicción para \n",
    "\n",
    "dic=['2019-12-01 00:00:00.0000000', '2019-12-02 00:00:00.0000000', '2019-12-03 00:00:00.0000000',\n",
    "                   '2019-12-04 00:00:00.0000000', '2019-12-05 00:00:00.0000000','2019-12-06 00:00:00.0000000',\n",
    "                   '2019-12-07 00:00:00.0000000','2019-12-08 00:00:00.0000000','2019-12-09 00:00:00.0000000',\n",
    "                   '2019-12-10 00:00:00.0000000','2019-12-11 00:00:00.0000000','2019-12-12 00:00:00.0000000',\n",
    "                   '2019-12-13 00:00:00.0000000','2019-12-14 00:00:00.0000000','2019-12-15 00:00:00.0000000',\n",
    "                   '2019-12-16 00:00:00.0000000','2019-12-17 00:00:00.0000000','2019-12-18 00:00:00.0000000',\n",
    "                   '2019-12-19 00:00:00.0000000','2019-12-20 00:00:00.0000000','2019-12-21 00:00:00.0000000',\n",
    "                   '2019-12-22 00:00:00.0000000','2019-12-23 00:00:00.0000000','2019-12-24 00:00:00.0000000',\n",
    "                   '2019-12-25 00:00:00.0000000','2019-12-26 00:00:00.0000000','2019-12-27 00:00:00.0000000',\n",
    "                   '2019-12-28 00:00:00.0000000','2019-12-29 00:00:00.0000000','2019-12-30 00:00:00.0000000',\n",
    "                   '2019-12-31 00:00:00.0000000']\n",
    "\n",
    "df_dic=pd.DataFrame(dic,columns=['Mes'])\n",
    "\n",
    "df_dic['Mes'] = pd.to_datetime(df_dic['Mes'])\n",
    "df_dic['Mes']=df_dic['Mes'].map(dt.datetime.toordinal)\n",
    "\n",
    "df_dic.tail(5)"
   ]
  },
  {
   "cell_type": "code",
   "execution_count": 32,
   "id": "cubic-silicon",
   "metadata": {},
   "outputs": [
    {
     "data": {
      "text/html": [
       "<div>\n",
       "<style scoped>\n",
       "    .dataframe tbody tr th:only-of-type {\n",
       "        vertical-align: middle;\n",
       "    }\n",
       "\n",
       "    .dataframe tbody tr th {\n",
       "        vertical-align: top;\n",
       "    }\n",
       "\n",
       "    .dataframe thead th {\n",
       "        text-align: right;\n",
       "    }\n",
       "</style>\n",
       "<table border=\"1\" class=\"dataframe\">\n",
       "  <thead>\n",
       "    <tr style=\"text-align: right;\">\n",
       "      <th></th>\n",
       "      <th>Predicción ventas para diciembre</th>\n",
       "    </tr>\n",
       "  </thead>\n",
       "  <tbody>\n",
       "    <tr>\n",
       "      <th>0</th>\n",
       "      <td>13077.8394</td>\n",
       "    </tr>\n",
       "    <tr>\n",
       "      <th>1</th>\n",
       "      <td>13078.8060</td>\n",
       "    </tr>\n",
       "    <tr>\n",
       "      <th>2</th>\n",
       "      <td>13079.7726</td>\n",
       "    </tr>\n",
       "    <tr>\n",
       "      <th>3</th>\n",
       "      <td>13080.7392</td>\n",
       "    </tr>\n",
       "    <tr>\n",
       "      <th>4</th>\n",
       "      <td>13081.7058</td>\n",
       "    </tr>\n",
       "  </tbody>\n",
       "</table>\n",
       "</div>"
      ],
      "text/plain": [
       "   Predicción ventas para diciembre\n",
       "0                        13077.8394\n",
       "1                        13078.8060\n",
       "2                        13079.7726\n",
       "3                        13080.7392\n",
       "4                        13081.7058"
      ]
     },
     "execution_count": 32,
     "metadata": {},
     "output_type": "execute_result"
    }
   ],
   "source": [
    "Valor_diciembre=0.9666*df_dic-699687.2010\n",
    "\n",
    "Valor_diciembre = Valor_diciembre.rename(columns={'Mes':'Predicción ventas para diciembre'})\n",
    "\n",
    "Valor_diciembre.head(5)"
   ]
  },
  {
   "cell_type": "code",
   "execution_count": 33,
   "id": "institutional-spider",
   "metadata": {},
   "outputs": [
    {
     "data": {
      "text/html": [
       "<div>\n",
       "<style scoped>\n",
       "    .dataframe tbody tr th:only-of-type {\n",
       "        vertical-align: middle;\n",
       "    }\n",
       "\n",
       "    .dataframe tbody tr th {\n",
       "        vertical-align: top;\n",
       "    }\n",
       "\n",
       "    .dataframe thead th {\n",
       "        text-align: right;\n",
       "    }\n",
       "</style>\n",
       "<table border=\"1\" class=\"dataframe\">\n",
       "  <thead>\n",
       "    <tr style=\"text-align: right;\">\n",
       "      <th></th>\n",
       "      <th>Mes</th>\n",
       "      <th>Predicción ventas para diciembre</th>\n",
       "    </tr>\n",
       "  </thead>\n",
       "  <tbody>\n",
       "    <tr>\n",
       "      <th>0</th>\n",
       "      <td>2019-12-01 00:00:00.0000000</td>\n",
       "      <td>13077.8394</td>\n",
       "    </tr>\n",
       "    <tr>\n",
       "      <th>1</th>\n",
       "      <td>2019-12-02 00:00:00.0000000</td>\n",
       "      <td>13078.8060</td>\n",
       "    </tr>\n",
       "    <tr>\n",
       "      <th>2</th>\n",
       "      <td>2019-12-03 00:00:00.0000000</td>\n",
       "      <td>13079.7726</td>\n",
       "    </tr>\n",
       "    <tr>\n",
       "      <th>3</th>\n",
       "      <td>2019-12-04 00:00:00.0000000</td>\n",
       "      <td>13080.7392</td>\n",
       "    </tr>\n",
       "    <tr>\n",
       "      <th>4</th>\n",
       "      <td>2019-12-05 00:00:00.0000000</td>\n",
       "      <td>13081.7058</td>\n",
       "    </tr>\n",
       "  </tbody>\n",
       "</table>\n",
       "</div>"
      ],
      "text/plain": [
       "                           Mes  Predicción ventas para diciembre\n",
       "0  2019-12-01 00:00:00.0000000                        13077.8394\n",
       "1  2019-12-02 00:00:00.0000000                        13078.8060\n",
       "2  2019-12-03 00:00:00.0000000                        13079.7726\n",
       "3  2019-12-04 00:00:00.0000000                        13080.7392\n",
       "4  2019-12-05 00:00:00.0000000                        13081.7058"
      ]
     },
     "execution_count": 33,
     "metadata": {},
     "output_type": "execute_result"
    }
   ],
   "source": [
    "dic2=pd.DataFrame(dic,columns=['Mes'])\n",
    "\n",
    "vent_dic=pd.concat([dic2, Valor_diciembre], axis=1)\n",
    "\n",
    "vent_dic.head(5)"
   ]
  },
  {
   "cell_type": "code",
   "execution_count": 34,
   "id": "verbal-alert",
   "metadata": {},
   "outputs": [
    {
     "data": {
      "text/html": [
       "<div>                            <div id=\"f0765a78-467c-4c56-97db-67ba7d73e9ac\" class=\"plotly-graph-div\" style=\"height:525px; width:100%;\"></div>            <script type=\"text/javascript\">                require([\"plotly\"], function(Plotly) {                    window.PLOTLYENV=window.PLOTLYENV || {};                                    if (document.getElementById(\"f0765a78-467c-4c56-97db-67ba7d73e9ac\")) {                    Plotly.newPlot(                        \"f0765a78-467c-4c56-97db-67ba7d73e9ac\",                        [{\"hovertemplate\": \"Fecha=%{x}<br>Predicci\\u00f3n ventas=%{y}<extra></extra>\", \"legendgroup\": \"\", \"line\": {\"color\": \"#636efa\", \"dash\": \"solid\"}, \"mode\": \"lines\", \"name\": \"\", \"orientation\": \"v\", \"showlegend\": false, \"type\": \"scatter\", \"x\": [\"2019-12-01 00:00:00.0000000\", \"2019-12-02 00:00:00.0000000\", \"2019-12-03 00:00:00.0000000\", \"2019-12-04 00:00:00.0000000\", \"2019-12-05 00:00:00.0000000\", \"2019-12-06 00:00:00.0000000\", \"2019-12-07 00:00:00.0000000\", \"2019-12-08 00:00:00.0000000\", \"2019-12-09 00:00:00.0000000\", \"2019-12-10 00:00:00.0000000\", \"2019-12-11 00:00:00.0000000\", \"2019-12-12 00:00:00.0000000\", \"2019-12-13 00:00:00.0000000\", \"2019-12-14 00:00:00.0000000\", \"2019-12-15 00:00:00.0000000\", \"2019-12-16 00:00:00.0000000\", \"2019-12-17 00:00:00.0000000\", \"2019-12-18 00:00:00.0000000\", \"2019-12-19 00:00:00.0000000\", \"2019-12-20 00:00:00.0000000\", \"2019-12-21 00:00:00.0000000\", \"2019-12-22 00:00:00.0000000\", \"2019-12-23 00:00:00.0000000\", \"2019-12-24 00:00:00.0000000\", \"2019-12-25 00:00:00.0000000\", \"2019-12-26 00:00:00.0000000\", \"2019-12-27 00:00:00.0000000\", \"2019-12-28 00:00:00.0000000\", \"2019-12-29 00:00:00.0000000\", \"2019-12-30 00:00:00.0000000\", \"2019-12-31 00:00:00.0000000\"], \"xaxis\": \"x\", \"y\": [13077.839400000055, 13078.805999999982, 13079.772600000026, 13080.739199999953, 13081.705799999996, 13082.67240000004, 13083.638999999966, 13084.60560000001, 13085.572200000053, 13086.53879999998, 13087.505400000024, 13088.472000000067, 13089.438599999994, 13090.405200000037, 13091.371799999964, 13092.338400000008, 13093.305000000051, 13094.271599999978, 13095.238200000022, 13096.204800000065, 13097.171399999992, 13098.138000000035, 13099.104599999962, 13100.071200000006, 13101.03780000005, 13102.004399999976, 13102.97100000002, 13103.937600000063, 13104.90419999999, 13105.870800000033, 13106.83739999996], \"yaxis\": \"y\"}],                        {\"legend\": {\"tracegroupgap\": 0}, \"template\": {\"data\": {\"bar\": [{\"error_x\": {\"color\": \"#2a3f5f\"}, \"error_y\": {\"color\": \"#2a3f5f\"}, \"marker\": {\"line\": {\"color\": \"#E5ECF6\", \"width\": 0.5}}, \"type\": \"bar\"}], \"barpolar\": [{\"marker\": {\"line\": {\"color\": \"#E5ECF6\", \"width\": 0.5}}, \"type\": \"barpolar\"}], \"carpet\": [{\"aaxis\": {\"endlinecolor\": \"#2a3f5f\", \"gridcolor\": \"white\", \"linecolor\": \"white\", \"minorgridcolor\": \"white\", \"startlinecolor\": \"#2a3f5f\"}, \"baxis\": {\"endlinecolor\": \"#2a3f5f\", \"gridcolor\": \"white\", \"linecolor\": \"white\", \"minorgridcolor\": \"white\", \"startlinecolor\": \"#2a3f5f\"}, \"type\": \"carpet\"}], \"choropleth\": [{\"colorbar\": {\"outlinewidth\": 0, \"ticks\": \"\"}, \"type\": \"choropleth\"}], \"contour\": [{\"colorbar\": {\"outlinewidth\": 0, \"ticks\": \"\"}, \"colorscale\": [[0.0, \"#0d0887\"], [0.1111111111111111, \"#46039f\"], [0.2222222222222222, \"#7201a8\"], [0.3333333333333333, \"#9c179e\"], [0.4444444444444444, \"#bd3786\"], [0.5555555555555556, \"#d8576b\"], [0.6666666666666666, \"#ed7953\"], [0.7777777777777778, \"#fb9f3a\"], [0.8888888888888888, \"#fdca26\"], [1.0, \"#f0f921\"]], \"type\": \"contour\"}], \"contourcarpet\": [{\"colorbar\": {\"outlinewidth\": 0, \"ticks\": \"\"}, \"type\": \"contourcarpet\"}], \"heatmap\": [{\"colorbar\": {\"outlinewidth\": 0, \"ticks\": \"\"}, \"colorscale\": [[0.0, \"#0d0887\"], [0.1111111111111111, \"#46039f\"], [0.2222222222222222, \"#7201a8\"], [0.3333333333333333, \"#9c179e\"], [0.4444444444444444, \"#bd3786\"], [0.5555555555555556, \"#d8576b\"], [0.6666666666666666, \"#ed7953\"], [0.7777777777777778, \"#fb9f3a\"], [0.8888888888888888, \"#fdca26\"], [1.0, \"#f0f921\"]], \"type\": \"heatmap\"}], \"heatmapgl\": [{\"colorbar\": {\"outlinewidth\": 0, \"ticks\": \"\"}, \"colorscale\": [[0.0, \"#0d0887\"], [0.1111111111111111, \"#46039f\"], [0.2222222222222222, \"#7201a8\"], [0.3333333333333333, \"#9c179e\"], [0.4444444444444444, \"#bd3786\"], [0.5555555555555556, \"#d8576b\"], [0.6666666666666666, \"#ed7953\"], [0.7777777777777778, \"#fb9f3a\"], [0.8888888888888888, \"#fdca26\"], [1.0, \"#f0f921\"]], \"type\": \"heatmapgl\"}], \"histogram\": [{\"marker\": {\"colorbar\": {\"outlinewidth\": 0, \"ticks\": \"\"}}, \"type\": \"histogram\"}], \"histogram2d\": [{\"colorbar\": {\"outlinewidth\": 0, \"ticks\": \"\"}, \"colorscale\": [[0.0, \"#0d0887\"], [0.1111111111111111, \"#46039f\"], [0.2222222222222222, \"#7201a8\"], [0.3333333333333333, \"#9c179e\"], [0.4444444444444444, \"#bd3786\"], [0.5555555555555556, \"#d8576b\"], [0.6666666666666666, \"#ed7953\"], [0.7777777777777778, \"#fb9f3a\"], [0.8888888888888888, \"#fdca26\"], [1.0, \"#f0f921\"]], \"type\": \"histogram2d\"}], \"histogram2dcontour\": [{\"colorbar\": {\"outlinewidth\": 0, \"ticks\": \"\"}, \"colorscale\": [[0.0, \"#0d0887\"], [0.1111111111111111, \"#46039f\"], [0.2222222222222222, \"#7201a8\"], [0.3333333333333333, \"#9c179e\"], [0.4444444444444444, \"#bd3786\"], [0.5555555555555556, \"#d8576b\"], [0.6666666666666666, \"#ed7953\"], [0.7777777777777778, \"#fb9f3a\"], [0.8888888888888888, \"#fdca26\"], [1.0, \"#f0f921\"]], \"type\": \"histogram2dcontour\"}], \"mesh3d\": [{\"colorbar\": {\"outlinewidth\": 0, \"ticks\": \"\"}, \"type\": \"mesh3d\"}], \"parcoords\": [{\"line\": {\"colorbar\": {\"outlinewidth\": 0, \"ticks\": \"\"}}, \"type\": \"parcoords\"}], \"pie\": [{\"automargin\": true, \"type\": \"pie\"}], \"scatter\": [{\"marker\": {\"colorbar\": {\"outlinewidth\": 0, \"ticks\": \"\"}}, \"type\": \"scatter\"}], \"scatter3d\": [{\"line\": {\"colorbar\": {\"outlinewidth\": 0, \"ticks\": \"\"}}, \"marker\": {\"colorbar\": {\"outlinewidth\": 0, \"ticks\": \"\"}}, \"type\": \"scatter3d\"}], \"scattercarpet\": [{\"marker\": {\"colorbar\": {\"outlinewidth\": 0, \"ticks\": \"\"}}, \"type\": \"scattercarpet\"}], \"scattergeo\": [{\"marker\": {\"colorbar\": {\"outlinewidth\": 0, \"ticks\": \"\"}}, \"type\": \"scattergeo\"}], \"scattergl\": [{\"marker\": {\"colorbar\": {\"outlinewidth\": 0, \"ticks\": \"\"}}, \"type\": \"scattergl\"}], \"scattermapbox\": [{\"marker\": {\"colorbar\": {\"outlinewidth\": 0, \"ticks\": \"\"}}, \"type\": \"scattermapbox\"}], \"scatterpolar\": [{\"marker\": {\"colorbar\": {\"outlinewidth\": 0, \"ticks\": \"\"}}, \"type\": \"scatterpolar\"}], \"scatterpolargl\": [{\"marker\": {\"colorbar\": {\"outlinewidth\": 0, \"ticks\": \"\"}}, \"type\": \"scatterpolargl\"}], \"scatterternary\": [{\"marker\": {\"colorbar\": {\"outlinewidth\": 0, \"ticks\": \"\"}}, \"type\": \"scatterternary\"}], \"surface\": [{\"colorbar\": {\"outlinewidth\": 0, \"ticks\": \"\"}, \"colorscale\": [[0.0, \"#0d0887\"], [0.1111111111111111, \"#46039f\"], [0.2222222222222222, \"#7201a8\"], [0.3333333333333333, \"#9c179e\"], [0.4444444444444444, \"#bd3786\"], [0.5555555555555556, \"#d8576b\"], [0.6666666666666666, \"#ed7953\"], [0.7777777777777778, \"#fb9f3a\"], [0.8888888888888888, \"#fdca26\"], [1.0, \"#f0f921\"]], \"type\": \"surface\"}], \"table\": [{\"cells\": {\"fill\": {\"color\": \"#EBF0F8\"}, \"line\": {\"color\": \"white\"}}, \"header\": {\"fill\": {\"color\": \"#C8D4E3\"}, \"line\": {\"color\": \"white\"}}, \"type\": \"table\"}]}, \"layout\": {\"annotationdefaults\": {\"arrowcolor\": \"#2a3f5f\", \"arrowhead\": 0, \"arrowwidth\": 1}, \"autotypenumbers\": \"strict\", \"coloraxis\": {\"colorbar\": {\"outlinewidth\": 0, \"ticks\": \"\"}}, \"colorscale\": {\"diverging\": [[0, \"#8e0152\"], [0.1, \"#c51b7d\"], [0.2, \"#de77ae\"], [0.3, \"#f1b6da\"], [0.4, \"#fde0ef\"], [0.5, \"#f7f7f7\"], [0.6, \"#e6f5d0\"], [0.7, \"#b8e186\"], [0.8, \"#7fbc41\"], [0.9, \"#4d9221\"], [1, \"#276419\"]], \"sequential\": [[0.0, \"#0d0887\"], [0.1111111111111111, \"#46039f\"], [0.2222222222222222, \"#7201a8\"], [0.3333333333333333, \"#9c179e\"], [0.4444444444444444, \"#bd3786\"], [0.5555555555555556, \"#d8576b\"], [0.6666666666666666, \"#ed7953\"], [0.7777777777777778, \"#fb9f3a\"], [0.8888888888888888, \"#fdca26\"], [1.0, \"#f0f921\"]], \"sequentialminus\": [[0.0, \"#0d0887\"], [0.1111111111111111, \"#46039f\"], [0.2222222222222222, \"#7201a8\"], [0.3333333333333333, \"#9c179e\"], [0.4444444444444444, \"#bd3786\"], [0.5555555555555556, \"#d8576b\"], [0.6666666666666666, \"#ed7953\"], [0.7777777777777778, \"#fb9f3a\"], [0.8888888888888888, \"#fdca26\"], [1.0, \"#f0f921\"]]}, \"colorway\": [\"#636efa\", \"#EF553B\", \"#00cc96\", \"#ab63fa\", \"#FFA15A\", \"#19d3f3\", \"#FF6692\", \"#B6E880\", \"#FF97FF\", \"#FECB52\"], \"font\": {\"color\": \"#2a3f5f\"}, \"geo\": {\"bgcolor\": \"white\", \"lakecolor\": \"white\", \"landcolor\": \"#E5ECF6\", \"showlakes\": true, \"showland\": true, \"subunitcolor\": \"white\"}, \"hoverlabel\": {\"align\": \"left\"}, \"hovermode\": \"closest\", \"mapbox\": {\"style\": \"light\"}, \"paper_bgcolor\": \"white\", \"plot_bgcolor\": \"#E5ECF6\", \"polar\": {\"angularaxis\": {\"gridcolor\": \"white\", \"linecolor\": \"white\", \"ticks\": \"\"}, \"bgcolor\": \"#E5ECF6\", \"radialaxis\": {\"gridcolor\": \"white\", \"linecolor\": \"white\", \"ticks\": \"\"}}, \"scene\": {\"xaxis\": {\"backgroundcolor\": \"#E5ECF6\", \"gridcolor\": \"white\", \"gridwidth\": 2, \"linecolor\": \"white\", \"showbackground\": true, \"ticks\": \"\", \"zerolinecolor\": \"white\"}, \"yaxis\": {\"backgroundcolor\": \"#E5ECF6\", \"gridcolor\": \"white\", \"gridwidth\": 2, \"linecolor\": \"white\", \"showbackground\": true, \"ticks\": \"\", \"zerolinecolor\": \"white\"}, \"zaxis\": {\"backgroundcolor\": \"#E5ECF6\", \"gridcolor\": \"white\", \"gridwidth\": 2, \"linecolor\": \"white\", \"showbackground\": true, \"ticks\": \"\", \"zerolinecolor\": \"white\"}}, \"shapedefaults\": {\"line\": {\"color\": \"#2a3f5f\"}}, \"ternary\": {\"aaxis\": {\"gridcolor\": \"white\", \"linecolor\": \"white\", \"ticks\": \"\"}, \"baxis\": {\"gridcolor\": \"white\", \"linecolor\": \"white\", \"ticks\": \"\"}, \"bgcolor\": \"#E5ECF6\", \"caxis\": {\"gridcolor\": \"white\", \"linecolor\": \"white\", \"ticks\": \"\"}}, \"title\": {\"x\": 0.05}, \"xaxis\": {\"automargin\": true, \"gridcolor\": \"white\", \"linecolor\": \"white\", \"ticks\": \"\", \"title\": {\"standoff\": 15}, \"zerolinecolor\": \"white\", \"zerolinewidth\": 2}, \"yaxis\": {\"automargin\": true, \"gridcolor\": \"white\", \"linecolor\": \"white\", \"ticks\": \"\", \"title\": {\"standoff\": 15}, \"zerolinecolor\": \"white\", \"zerolinewidth\": 2}}}, \"title\": {\"text\": \"Predicci\\u00f3n de ventas para Diciembre 2019\"}, \"xaxis\": {\"anchor\": \"y\", \"domain\": [0.0, 1.0], \"title\": {\"text\": \"Fecha\"}}, \"yaxis\": {\"anchor\": \"x\", \"domain\": [0.0, 1.0], \"title\": {\"text\": \"Predicci\\u00f3n ventas\"}}},                        {\"responsive\": true}                    ).then(function(){\n",
       "                            \n",
       "var gd = document.getElementById('f0765a78-467c-4c56-97db-67ba7d73e9ac');\n",
       "var x = new MutationObserver(function (mutations, observer) {{\n",
       "        var display = window.getComputedStyle(gd).display;\n",
       "        if (!display || display === 'none') {{\n",
       "            console.log([gd, 'removed!']);\n",
       "            Plotly.purge(gd);\n",
       "            observer.disconnect();\n",
       "        }}\n",
       "}});\n",
       "\n",
       "// Listen for the removal of the full notebook cells\n",
       "var notebookContainer = gd.closest('#notebook-container');\n",
       "if (notebookContainer) {{\n",
       "    x.observe(notebookContainer, {childList: true});\n",
       "}}\n",
       "\n",
       "// Listen for the clearing of the current output cell\n",
       "var outputEl = gd.closest('.output');\n",
       "if (outputEl) {{\n",
       "    x.observe(outputEl, {childList: true});\n",
       "}}\n",
       "\n",
       "                        })                };                });            </script>        </div>"
      ]
     },
     "metadata": {},
     "output_type": "display_data"
    }
   ],
   "source": [
    "# Predicción de ventas para Diciembre 2019\n",
    "\n",
    "fig = px.line(vent_dic, x='Mes', y='Predicción ventas para diciembre', \n",
    "              title='Predicción de ventas para Diciembre 2019',\n",
    "             labels={\n",
    "                     \"Mes\": \"Fecha\",\n",
    "                     \"Predicción ventas para diciembre\": \"Predicción ventas\"\n",
    "                 })\n",
    "\n",
    "fig.show()"
   ]
  },
  {
   "cell_type": "markdown",
   "id": "photographic-energy",
   "metadata": {},
   "source": [
    "# Dependencias"
   ]
  },
  {
   "cell_type": "code",
   "execution_count": 1,
   "id": "abandoned-parish",
   "metadata": {},
   "outputs": [
    {
     "name": "stdout",
     "output_type": "stream",
     "text": [
      "Python implementation: CPython\n",
      "Python version       : 3.8.5\n",
      "IPython version      : 7.13.0\n",
      "\n",
      "wget        : not installed\n",
      "pandas      : 1.2.3\n",
      "numpy       : 1.18.4\n",
      "datetime    : unknown\n",
      "plotly      : 4.14.3\n",
      "scikit-learn: 0.23.1\n",
      "matplotlib  : 3.2.1\n",
      "watermark   : 2.2.0\n",
      "\n",
      "Compiler    : GCC 9.3.0\n",
      "OS          : Linux\n",
      "Release     : 5.8.0-44-generic\n",
      "Machine     : x86_64\n",
      "Processor   : x86_64\n",
      "CPU cores   : 8\n",
      "Architecture: 64bit\n",
      "\n",
      " \n",
      "Last updated: Sun Mar 14 2021 21:20:37-05\n",
      "\n"
     ]
    }
   ],
   "source": [
    "%load_ext watermark\n",
    "\n",
    "%watermark -v -m -p wget,pandas,numpy,datetime,plotly,scikit-learn,matplotlib,watermark\n",
    "\n",
    "#Fecha\n",
    "\n",
    "print(\" \")\n",
    "\n",
    "%watermark -u -n -t -z"
   ]
  },
  {
   "cell_type": "code",
   "execution_count": null,
   "id": "dense-mineral",
   "metadata": {},
   "outputs": [],
   "source": []
  }
 ],
 "metadata": {
  "kernelspec": {
   "display_name": "Python 3",
   "language": "python",
   "name": "python3"
  },
  "language_info": {
   "codemirror_mode": {
    "name": "ipython",
    "version": 3
   },
   "file_extension": ".py",
   "mimetype": "text/x-python",
   "name": "python",
   "nbconvert_exporter": "python",
   "pygments_lexer": "ipython3",
   "version": "3.8.5"
  }
 },
 "nbformat": 4,
 "nbformat_minor": 5
}
